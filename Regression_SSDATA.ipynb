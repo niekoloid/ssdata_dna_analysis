{
 "cells": [
  {
   "cell_type": "code",
   "execution_count": 3,
   "metadata": {
    "collapsed": false
   },
   "outputs": [],
   "source": [
    "# Load libraries\n",
    "import numpy\n",
    "from numpy import arange\n",
    "from matplotlib import pyplot\n",
    "from pandas import read_csv\n",
    "from pandas import set_option\n",
    "from pandas.tools.plotting import scatter_matrix\n",
    "from sklearn.preprocessing import StandardScaler\n",
    "from sklearn.preprocessing import MultiLabelBinarizer\n",
    "from sklearn.preprocessing import LabelBinarizer\n",
    "from sklearn.preprocessing import LabelEncoder\n",
    "from sklearn.model_selection import train_test_split\n",
    "from sklearn.model_selection import KFold\n",
    "from sklearn.model_selection import cross_val_score\n",
    "from sklearn.model_selection import GridSearchCV\n",
    "from sklearn.linear_model import LinearRegression\n",
    "from sklearn.linear_model import Lasso\n",
    "from sklearn.linear_model import Ridge\n",
    "from sklearn.linear_model import ElasticNet\n",
    "from sklearn.tree import DecisionTreeRegressor\n",
    "from sklearn.neighbors import KNeighborsRegressor\n",
    "from sklearn.svm import SVR\n",
    "from sklearn.pipeline import Pipeline\n",
    "from sklearn.ensemble import RandomForestRegressor\n",
    "from sklearn.ensemble import GradientBoostingRegressor\n",
    "from sklearn.ensemble import ExtraTreesRegressor\n",
    "from sklearn.ensemble import AdaBoostRegressor\n",
    "from sklearn.metrics import mean_squared_error\n",
    "from xgboost import XGBRegressor\n",
    "\n",
    "from keras.models import Sequential\n",
    "from keras.layers import Dense\n",
    "from keras.callbacks import ModelCheckpoint\n",
    "from keras.wrappers.scikit_learn import KerasRegressor\n",
    "%matplotlib inline"
   ]
  },
  {
   "cell_type": "code",
   "execution_count": 4,
   "metadata": {
    "collapsed": false,
    "scrolled": true
   },
   "outputs": [
    {
     "data": {
      "text/plain": [
       "(1257780, 87)"
      ]
     },
     "execution_count": 4,
     "metadata": {},
     "output_type": "execute_result"
    }
   ],
   "source": [
    "# Load full dataset\n",
    "filename = 'ssdata_for_train_common.txt'\n",
    "dataset_full = read_csv(filename, sep='\\t')\n",
    "dataset_full.shape"
   ]
  },
  {
   "cell_type": "code",
   "execution_count": 5,
   "metadata": {
    "collapsed": false
   },
   "outputs": [
    {
     "data": {
      "text/plain": [
       "(1257780, 29)"
      ]
     },
     "execution_count": 5,
     "metadata": {},
     "output_type": "execute_result"
    }
   ],
   "source": [
    "# Select features to be used to build model\n",
    "cols = [\"Site.Type\",\"TA.raw\",\"SPS.raw\",\"sRNA1A.scaled\",\"sRNA1C.scaled\",\"sRNA1G.scaled\",\"sRNA8A.scaled\",\"sRNA8C.scaled\",\"sRNA8G.scaled\",\"site8A.scaled\",\"site8C.scaled\",\"site8G.scaled\",\"local.AU.raw\",\"X3..pairing.raw\",\"SA.raw\",\"Min_dist.raw\",\"PCT.raw\",\"ORF.length.raw\",\"X3.UTR.length.raw\",\"Offset.6mer.raw\",\"ORF.8mer.raw\",\"transfection_final_conc_curated\",\"trans_reagent\",\"genetic_background\",\"hours\",\"GPL\",\"Series\",\"cell\",\"log2fc\"]\n",
    "dataset = dataset_full[cols]\n",
    "dataset.shape"
   ]
  },
  {
   "cell_type": "code",
   "execution_count": 6,
   "metadata": {
    "collapsed": false
   },
   "outputs": [
    {
     "data": {
      "text/html": [
       "<div>\n",
       "<table border=\"1\" class=\"dataframe\">\n",
       "  <thead>\n",
       "    <tr style=\"text-align: right;\">\n",
       "      <th></th>\n",
       "      <th>Site.Type</th>\n",
       "      <th>TA.raw</th>\n",
       "      <th>SPS.raw</th>\n",
       "      <th>sRNA1A.scaled</th>\n",
       "      <th>sRNA1C.scaled</th>\n",
       "      <th>sRNA1G.scaled</th>\n",
       "      <th>sRNA8A.scaled</th>\n",
       "      <th>sRNA8C.scaled</th>\n",
       "      <th>sRNA8G.scaled</th>\n",
       "      <th>site8A.scaled</th>\n",
       "      <th>...</th>\n",
       "      <th>Offset.6mer.raw</th>\n",
       "      <th>ORF.8mer.raw</th>\n",
       "      <th>transfection_final_conc_curated</th>\n",
       "      <th>trans_reagent</th>\n",
       "      <th>genetic_background</th>\n",
       "      <th>hours</th>\n",
       "      <th>GPL</th>\n",
       "      <th>Series</th>\n",
       "      <th>cell</th>\n",
       "      <th>log2fc</th>\n",
       "    </tr>\n",
       "  </thead>\n",
       "  <tbody>\n",
       "    <tr>\n",
       "      <th>0</th>\n",
       "      <td>7mer-m8</td>\n",
       "      <td>3.704</td>\n",
       "      <td>-8.80</td>\n",
       "      <td>0</td>\n",
       "      <td>0</td>\n",
       "      <td>0</td>\n",
       "      <td>0</td>\n",
       "      <td>0</td>\n",
       "      <td>1</td>\n",
       "      <td>0</td>\n",
       "      <td>...</td>\n",
       "      <td>1</td>\n",
       "      <td>0</td>\n",
       "      <td>2.500000e-08</td>\n",
       "      <td>Lipofectamine2000</td>\n",
       "      <td>wildtype</td>\n",
       "      <td>48.0</td>\n",
       "      <td>GPL570</td>\n",
       "      <td>GSE27431</td>\n",
       "      <td>HEY</td>\n",
       "      <td>0.167583</td>\n",
       "    </tr>\n",
       "    <tr>\n",
       "      <th>1</th>\n",
       "      <td>7mer-1a</td>\n",
       "      <td>3.621</td>\n",
       "      <td>-6.43</td>\n",
       "      <td>0</td>\n",
       "      <td>0</td>\n",
       "      <td>0</td>\n",
       "      <td>0</td>\n",
       "      <td>1</td>\n",
       "      <td>0</td>\n",
       "      <td>0</td>\n",
       "      <td>...</td>\n",
       "      <td>0</td>\n",
       "      <td>0</td>\n",
       "      <td>2.500000e-08</td>\n",
       "      <td>Lipofectamine2000</td>\n",
       "      <td>wildtype</td>\n",
       "      <td>48.0</td>\n",
       "      <td>GPL570</td>\n",
       "      <td>GSE27431</td>\n",
       "      <td>HEY</td>\n",
       "      <td>0.353088</td>\n",
       "    </tr>\n",
       "    <tr>\n",
       "      <th>2</th>\n",
       "      <td>6mer</td>\n",
       "      <td>3.539</td>\n",
       "      <td>-5.66</td>\n",
       "      <td>0</td>\n",
       "      <td>0</td>\n",
       "      <td>0</td>\n",
       "      <td>0</td>\n",
       "      <td>0</td>\n",
       "      <td>0</td>\n",
       "      <td>0</td>\n",
       "      <td>...</td>\n",
       "      <td>0</td>\n",
       "      <td>0</td>\n",
       "      <td>5.000000e-08</td>\n",
       "      <td>HiPerFect</td>\n",
       "      <td>wildtype</td>\n",
       "      <td>40.0</td>\n",
       "      <td>GPL4133</td>\n",
       "      <td>GSE28522</td>\n",
       "      <td>HeLa</td>\n",
       "      <td>0.275285</td>\n",
       "    </tr>\n",
       "    <tr>\n",
       "      <th>3</th>\n",
       "      <td>6mer</td>\n",
       "      <td>3.539</td>\n",
       "      <td>-5.66</td>\n",
       "      <td>0</td>\n",
       "      <td>0</td>\n",
       "      <td>0</td>\n",
       "      <td>0</td>\n",
       "      <td>0</td>\n",
       "      <td>0</td>\n",
       "      <td>0</td>\n",
       "      <td>...</td>\n",
       "      <td>0</td>\n",
       "      <td>0</td>\n",
       "      <td>5.000000e-08</td>\n",
       "      <td>HiPerFect</td>\n",
       "      <td>wildtype</td>\n",
       "      <td>40.0</td>\n",
       "      <td>GPL4133</td>\n",
       "      <td>GSE28522</td>\n",
       "      <td>TW01</td>\n",
       "      <td>-0.023325</td>\n",
       "    </tr>\n",
       "    <tr>\n",
       "      <th>4</th>\n",
       "      <td>6mer</td>\n",
       "      <td>3.569</td>\n",
       "      <td>-3.58</td>\n",
       "      <td>0</td>\n",
       "      <td>0</td>\n",
       "      <td>0</td>\n",
       "      <td>1</td>\n",
       "      <td>0</td>\n",
       "      <td>0</td>\n",
       "      <td>0</td>\n",
       "      <td>...</td>\n",
       "      <td>1</td>\n",
       "      <td>0</td>\n",
       "      <td>NaN</td>\n",
       "      <td>HiPerFect</td>\n",
       "      <td>wildtype</td>\n",
       "      <td>96.0</td>\n",
       "      <td>GPL13607</td>\n",
       "      <td>GSE29207</td>\n",
       "      <td>hMADS</td>\n",
       "      <td>0.009550</td>\n",
       "    </tr>\n",
       "  </tbody>\n",
       "</table>\n",
       "<p>5 rows × 29 columns</p>\n",
       "</div>"
      ],
      "text/plain": [
       "  Site.Type  TA.raw  SPS.raw  sRNA1A.scaled  sRNA1C.scaled  sRNA1G.scaled  \\\n",
       "0   7mer-m8   3.704    -8.80              0              0              0   \n",
       "1   7mer-1a   3.621    -6.43              0              0              0   \n",
       "2      6mer   3.539    -5.66              0              0              0   \n",
       "3      6mer   3.539    -5.66              0              0              0   \n",
       "4      6mer   3.569    -3.58              0              0              0   \n",
       "\n",
       "   sRNA8A.scaled  sRNA8C.scaled  sRNA8G.scaled  site8A.scaled    ...     \\\n",
       "0              0              0              1              0    ...      \n",
       "1              0              1              0              0    ...      \n",
       "2              0              0              0              0    ...      \n",
       "3              0              0              0              0    ...      \n",
       "4              1              0              0              0    ...      \n",
       "\n",
       "   Offset.6mer.raw  ORF.8mer.raw  transfection_final_conc_curated  \\\n",
       "0                1             0                     2.500000e-08   \n",
       "1                0             0                     2.500000e-08   \n",
       "2                0             0                     5.000000e-08   \n",
       "3                0             0                     5.000000e-08   \n",
       "4                1             0                              NaN   \n",
       "\n",
       "       trans_reagent  genetic_background  hours       GPL    Series   cell  \\\n",
       "0  Lipofectamine2000            wildtype   48.0    GPL570  GSE27431    HEY   \n",
       "1  Lipofectamine2000            wildtype   48.0    GPL570  GSE27431    HEY   \n",
       "2          HiPerFect            wildtype   40.0   GPL4133  GSE28522   HeLa   \n",
       "3          HiPerFect            wildtype   40.0   GPL4133  GSE28522   TW01   \n",
       "4          HiPerFect            wildtype   96.0  GPL13607  GSE29207  hMADS   \n",
       "\n",
       "     log2fc  \n",
       "0  0.167583  \n",
       "1  0.353088  \n",
       "2  0.275285  \n",
       "3 -0.023325  \n",
       "4  0.009550  \n",
       "\n",
       "[5 rows x 29 columns]"
      ]
     },
     "execution_count": 6,
     "metadata": {},
     "output_type": "execute_result"
    }
   ],
   "source": [
    "dataset.head()"
   ]
  },
  {
   "cell_type": "code",
   "execution_count": 7,
   "metadata": {
    "collapsed": false
   },
   "outputs": [
    {
     "name": "stdout",
     "output_type": "stream",
     "text": [
      "(1257780, 29)\n",
      "Site.Type                           object\n",
      "TA.raw                             float64\n",
      "SPS.raw                            float64\n",
      "sRNA1A.scaled                        int64\n",
      "sRNA1C.scaled                        int64\n",
      "sRNA1G.scaled                        int64\n",
      "sRNA8A.scaled                        int64\n",
      "sRNA8C.scaled                        int64\n",
      "sRNA8G.scaled                        int64\n",
      "site8A.scaled                        int64\n",
      "site8C.scaled                        int64\n",
      "site8G.scaled                        int64\n",
      "local.AU.raw                       float64\n",
      "X3..pairing.raw                    float64\n",
      "SA.raw                             float64\n",
      "Min_dist.raw                       float64\n",
      "PCT.raw                            float64\n",
      "ORF.length.raw                     float64\n",
      "X3.UTR.length.raw                  float64\n",
      "Offset.6mer.raw                      int64\n",
      "ORF.8mer.raw                         int64\n",
      "transfection_final_conc_curated    float64\n",
      "trans_reagent                       object\n",
      "genetic_background                  object\n",
      "hours                              float64\n",
      "GPL                                 object\n",
      "Series                              object\n",
      "cell                                object\n",
      "log2fc                             float64\n",
      "dtype: object\n"
     ]
    }
   ],
   "source": [
    "# Summarize Data\n",
    "\n",
    "# shape\n",
    "print(dataset.shape)\n",
    "# types\n",
    "print(dataset.dtypes)"
   ]
  },
  {
   "cell_type": "markdown",
   "metadata": {},
   "source": [
    "### Preprocess Categorical Data"
   ]
  },
  {
   "cell_type": "code",
   "execution_count": 8,
   "metadata": {
    "collapsed": false
   },
   "outputs": [
    {
     "name": "stdout",
     "output_type": "stream",
     "text": [
      "Site.Type\n",
      "6mer       663452\n",
      "7mer-1a    230616\n",
      "7mer-m8    265919\n",
      "8mer-1a     97793\n",
      "dtype: int64\n",
      "\n",
      "trans_reagent\n",
      "Amaxa nucleofection             7284\n",
      "Cell Line Nucleofector kit     30919\n",
      "DharmaFECT                     22992\n",
      "DharmaFECT3                     8502\n",
      "HiPerFect                      66767\n",
      "INTERFERin                      2575\n",
      "Lentiviral vector              72953\n",
      "Lipofectamin RNAi MAX         406776\n",
      "Lipofectamine2000             378591\n",
      "MicroPorator MP-100             2528\n",
      "Neon transfection System        3642\n",
      "Oligofectamine                 20673\n",
      "PureFection                     6704\n",
      "Retroviral vector              13148\n",
      "SilentFect                     28828\n",
      "Viral vector                    3042\n",
      "X-tremeGENE siRNA               3857\n",
      "siPORT neo-FX                  32412\n",
      "dtype: int64\n",
      "\n",
      "genetic_background\n",
      "Dicer        119591\n",
      "wildtype    1138189\n",
      "dtype: int64\n",
      "\n",
      "GPL\n",
      "GPL10332    128884\n",
      "GPL10558    127171\n",
      "GPL10739      2972\n",
      "GPL10904      7124\n",
      "GPL13158      7466\n",
      "GPL13497      8884\n",
      "GPL13607    110402\n",
      "GPL13915     11186\n",
      "GPL14550      7770\n",
      "GPL1456      19115\n",
      "GPL15207      3699\n",
      "GPL15338      2748\n",
      "GPL15496      3307\n",
      "GPL16359      2990\n",
      "GPL16699     24138\n",
      "GPL1708       3215\n",
      "GPL1749       9549\n",
      "GPL19383      3740\n",
      "GPL3991      98930\n",
      "GPL4133     140503\n",
      "GPL4372      81797\n",
      "GPL4925       2354\n",
      "GPL5104       2611\n",
      "GPL5175       5396\n",
      "GPL5639       1010\n",
      "GPL570      153470\n",
      "GPL571       14982\n",
      "GPL5799       3484\n",
      "GPL6098       3193\n",
      "GPL6102      14767\n",
      "GPL6104       7923\n",
      "GPL6171       4372\n",
      "GPL6244      70752\n",
      "GPL6480      70869\n",
      "GPL6793       3030\n",
      "GPL6848       7436\n",
      "GPL6879      25300\n",
      "GPL6883       8702\n",
      "GPL6884      11356\n",
      "GPL6947      28476\n",
      "GPL7038       3676\n",
      "GPL7504       3141\n",
      "GPL8755       2872\n",
      "GPL885        3018\n",
      "dtype: int64\n",
      "\n",
      "Series\n",
      "GSE10057     3646\n",
      "GSE10455     7359\n",
      "GSE10864     2973\n",
      "GSE11701     2365\n",
      "GSE11778     3030\n",
      "GSE12100     4993\n",
      "GSE12278    10575\n",
      "GSE12615     1990\n",
      "GSE13105     9638\n",
      "GSE13286     3513\n",
      "GSE13674     3484\n",
      "GSE14477     2765\n",
      "GSE14507     4017\n",
      "GSE14537     8132\n",
      "GSE14831    16196\n",
      "GSE14847    14767\n",
      "GSE15281     2821\n",
      "GSE16239     2528\n",
      "GSE16568     3857\n",
      "GSE16571     1000\n",
      "GSE16674     3740\n",
      "GSE16700     3823\n",
      "GSE16988     3734\n",
      "GSE17460     2575\n",
      "GSE17508     3830\n",
      "GSE17828     2611\n",
      "GSE18510     3491\n",
      "GSE18545     5897\n",
      "GSE18625     3829\n",
      "GSE18695     4698\n",
      "            ...  \n",
      "GSE56967     3287\n",
      "GSE57158     3042\n",
      "GSE57676     8289\n",
      "GSE57820     3889\n",
      "GSE58004     2778\n",
      "GSE58142     1040\n",
      "GSE59458     3924\n",
      "GSE59805     3654\n",
      "GSE60766    13227\n",
      "GSE61078     3248\n",
      "GSE61139     2943\n",
      "GSE6207      4115\n",
      "GSE62453     3560\n",
      "GSE62568     4084\n",
      "GSE62951     3740\n",
      "GSE63483     1381\n",
      "GSE64020     7124\n",
      "GSE64364     6235\n",
      "GSE66844     3699\n",
      "GSE67327     4251\n",
      "GSE67328     4251\n",
      "GSE6838     72855\n",
      "GSE68740     3806\n",
      "GSE68742     4084\n",
      "GSE69150     3630\n",
      "GSE70434     3463\n",
      "GSE7185      2354\n",
      "GSE7864     52255\n",
      "GSE8501     29783\n",
      "GSE9742      4372\n",
      "dtype: int64\n",
      "\n",
      "cell\n",
      "2091                   2990\n",
      "218TGpp                2972\n",
      "4L                     3306\n",
      "5B1                    3306\n",
      "786O                  11080\n",
      "A172                   3030\n",
      "A498                  48134\n",
      "A549                  32872\n",
      "AGS                    4949\n",
      "Akata                  6619\n",
      "BG1                    1990\n",
      "BM-MSC                 3903\n",
      "BOY                    4928\n",
      "BT549                 14317\n",
      "C4-2                   1003\n",
      "C8161                  3042\n",
      "CB-HSPC                4752\n",
      "Calu-3                 3049\n",
      "DLD1                  43210\n",
      "DU145                 45692\n",
      "EC109                  2748\n",
      "ES2                    3857\n",
      "FLF                    6551\n",
      "FaDu                  26090\n",
      "GIST-T1                7890\n",
      "H1299                  2709\n",
      "H157                   3378\n",
      "H3255                  5580\n",
      "H4                    12422\n",
      "H441                   2780\n",
      "                      ...  \n",
      "SKBr3                  3513\n",
      "SKMEL28                3781\n",
      "SKMel147               2752\n",
      "SKNBE2                 7466\n",
      "SKNSH                 12650\n",
      "SKOV3                  3562\n",
      "SNB19                  3877\n",
      "SW1783                 3119\n",
      "SW780                  3346\n",
      "T.Tn                   3544\n",
      "T24                   19653\n",
      "TCP1                   2868\n",
      "TE13                   3779\n",
      "TE2                    7323\n",
      "TOV21G                10451\n",
      "TS543                  3704\n",
      "TW01                   3806\n",
      "U251                  10905\n",
      "U2OS                   7466\n",
      "U87MG                  6913\n",
      "UMUC3                  3484\n",
      "WERI                   2354\n",
      "WM1552C                2821\n",
      "caki1                 14195\n",
      "hCMEC/D3               1585\n",
      "hMADS                 13472\n",
      "hMSC-TERT              3924\n",
      "hiHep                  3699\n",
      "keratinocytes          2943\n",
      "myxoid liposarcoma     2872\n",
      "dtype: int64\n",
      "\n"
     ]
    }
   ],
   "source": [
    "# Show classes in the features in object type, which must be transformed into digits.\n",
    "\n",
    "cols = ['Site.Type', \"trans_reagent\",\"genetic_background\",\"GPL\",\"Series\",\"cell\",]\n",
    "for i, v in enumerate(cols):\n",
    "    print dataset.groupby(v).size()\n",
    "    print "
   ]
  },
  {
   "cell_type": "code",
   "execution_count": 9,
   "metadata": {
    "collapsed": false,
    "scrolled": false
   },
   "outputs": [
    {
     "name": "stdout",
     "output_type": "stream",
     "text": [
      "Number of classes: 4\n",
      "['6mer' '7mer-1a' '7mer-m8' '8mer-1a']\n"
     ]
    }
   ],
   "source": [
    "mlb1 = LabelEncoder()\n",
    "mlb1.fit(dataset['Site.Type'])\n",
    "hot_SiteType = mlb1.transform(dataset['Site.Type'])\n",
    "print \"Number of classes: \" + str(len(mlb1.classes_))\n",
    "print mlb1.classes_"
   ]
  },
  {
   "cell_type": "code",
   "execution_count": 10,
   "metadata": {
    "collapsed": false
   },
   "outputs": [
    {
     "name": "stderr",
     "output_type": "stream",
     "text": [
      "/usr/local/anaconda2/lib/python2.7/site-packages/numpy/lib/arraysetops.py:216: FutureWarning: numpy not_equal will not check object identity in the future. The comparison did not return the same result as suggested by the identity (`is`)) and will change.\n",
      "  flag = np.concatenate(([True], aux[1:] != aux[:-1]))\n"
     ]
    },
    {
     "name": "stdout",
     "output_type": "stream",
     "text": [
      "Number of classes: 19\n",
      "[nan 'Amaxa nucleofection' 'Cell Line Nucleofector kit' 'DharmaFECT'\n",
      " 'DharmaFECT3' 'HiPerFect' 'INTERFERin' 'Lentiviral vector'\n",
      " 'Lipofectamin RNAi MAX' 'Lipofectamine2000' 'MicroPorator MP-100 '\n",
      " 'Neon transfection System' 'Oligofectamine' 'PureFection'\n",
      " 'Retroviral vector' 'SilentFect' 'Viral vector' 'X-tremeGENE siRNA'\n",
      " 'siPORT neo-FX']\n"
     ]
    }
   ],
   "source": [
    "mlb2 = LabelEncoder()\n",
    "mlb2.fit(dataset['trans_reagent'])\n",
    "hot_trans_reagent = mlb2.fit_transform(dataset['trans_reagent'])\n",
    "print \"Number of classes: \" + str(len(mlb2.classes_))\n",
    "print mlb2.classes_"
   ]
  },
  {
   "cell_type": "code",
   "execution_count": 11,
   "metadata": {
    "collapsed": false
   },
   "outputs": [
    {
     "name": "stdout",
     "output_type": "stream",
     "text": [
      "Number of classes: 2\n",
      "['Dicer' 'wildtype']\n"
     ]
    }
   ],
   "source": [
    "mlb3 = LabelEncoder()\n",
    "mlb3.fit(dataset['genetic_background'])\n",
    "hot_genetic_background = mlb3.transform(dataset['genetic_background'])\n",
    "print \"Number of classes: \" + str(len(mlb3.classes_))\n",
    "print mlb3.classes_"
   ]
  },
  {
   "cell_type": "code",
   "execution_count": 12,
   "metadata": {
    "collapsed": false
   },
   "outputs": [
    {
     "name": "stdout",
     "output_type": "stream",
     "text": [
      "Number of classes: 44\n",
      "['GPL10332' 'GPL10558' 'GPL10739' 'GPL10904' 'GPL13158' 'GPL13497'\n",
      " 'GPL13607' 'GPL13915' 'GPL14550' 'GPL1456' 'GPL15207' 'GPL15338'\n",
      " 'GPL15496' 'GPL16359' 'GPL16699' 'GPL1708' 'GPL1749' 'GPL19383' 'GPL3991'\n",
      " 'GPL4133' 'GPL4372' 'GPL4925' 'GPL5104' 'GPL5175' 'GPL5639' 'GPL570'\n",
      " 'GPL571' 'GPL5799' 'GPL6098' 'GPL6102' 'GPL6104' 'GPL6171' 'GPL6244'\n",
      " 'GPL6480' 'GPL6793' 'GPL6848' 'GPL6879' 'GPL6883' 'GPL6884' 'GPL6947'\n",
      " 'GPL7038' 'GPL7504' 'GPL8755' 'GPL885']\n"
     ]
    }
   ],
   "source": [
    "mlb4 = LabelEncoder()\n",
    "mlb4.fit(dataset['GPL'])\n",
    "hot_GPL = mlb4.transform(dataset['GPL'])\n",
    "print \"Number of classes: \" + str(len(mlb4.classes_))\n",
    "print mlb4.classes_"
   ]
  },
  {
   "cell_type": "code",
   "execution_count": 13,
   "metadata": {
    "collapsed": false
   },
   "outputs": [
    {
     "name": "stdout",
     "output_type": "stream",
     "text": [
      "Number of classes: 176\n",
      "['GSE10057' 'GSE10455' 'GSE10864' 'GSE11701' 'GSE11778' 'GSE12100'\n",
      " 'GSE12278' 'GSE12615' 'GSE13105' 'GSE13286' 'GSE13674' 'GSE14477'\n",
      " 'GSE14507' 'GSE14537' 'GSE14831' 'GSE14847' 'GSE15281' 'GSE16239'\n",
      " 'GSE16568' 'GSE16571' 'GSE16674' 'GSE16700' 'GSE16988' 'GSE17460'\n",
      " 'GSE17508' 'GSE17828' 'GSE18510' 'GSE18545' 'GSE18625' 'GSE18695'\n",
      " 'GSE18713' 'GSE19680' 'GSE19688' 'GSE19717' 'GSE19718' 'GSE19737'\n",
      " 'GSE19931' 'GSE19933' 'GSE20028' 'GSE20293' 'GSE20637' 'GSE20745'\n",
      " 'GSE2075' 'GSE21458' 'GSE21832' 'GSE22002' 'GSE22143' 'GSE23019'\n",
      " 'GSE24613' 'GSE24782' 'GSE24812' 'GSE24980' 'GSE25162' 'GSE25215'\n",
      " 'GSE25332' 'GSE26032' 'GSE26332' 'GSE26545' 'GSE26996' 'GSE27431'\n",
      " 'GSE27718' 'GSE28400' 'GSE28456' 'GSE28522' 'GSE28810' 'GSE29043'\n",
      " 'GSE29207' 'GSE29760' 'GSE31277' 'GSE31397' 'GSE31566' 'GSE31620'\n",
      " 'GSE31751' 'GSE32617' 'GSE32876' 'GSE32999' 'GSE33247' 'GSE33293'\n",
      " 'GSE33420' 'GSE33672' 'GSE33952' 'GSE34242' 'GSE34482' 'GSE34815'\n",
      " 'GSE34846' 'GSE34893' 'GSE35030' 'GSE35491' 'GSE35620' 'GSE35668'\n",
      " 'GSE35948' 'GSE3605' 'GSE36565' 'GSE36801' 'GSE36966' 'GSE37119'\n",
      " 'GSE37729' 'GSE37967' 'GSE38530' 'GSE38581' 'GSE38593' 'GSE38817'\n",
      " 'GSE38956' 'GSE39294' 'GSE40058' 'GSE40189' 'GSE40387' 'GSE40406'\n",
      " 'GSE40408' 'GSE40411' 'GSE40489' 'GSE41322' 'GSE41576' 'GSE41737'\n",
      " 'GSE41760' 'GSE42486' 'GSE42613' 'GSE42788' 'GSE42823' 'GSE43016'\n",
      " 'GSE43622' 'GSE44120' 'GSE44693' 'GSE44784' 'GSE45627' 'GSE45903'\n",
      " 'GSE46059' 'GSE46197' 'GSE47363' 'GSE47522' 'GSE47657' 'GSE48063'\n",
      " 'GSE49308' 'GSE49845' 'GSE50615' 'GSE50980' 'GSE51053' 'GSE51854'\n",
      " 'GSE51875' 'GSE53143' 'GSE53872' 'GSE54493' 'GSE55822' 'GSE56268'\n",
      " 'GSE56335' 'GSE56854' 'GSE56967' 'GSE57158' 'GSE57676' 'GSE57820'\n",
      " 'GSE58004' 'GSE58142' 'GSE59458' 'GSE59805' 'GSE60766' 'GSE61078'\n",
      " 'GSE61139' 'GSE6207' 'GSE62453' 'GSE62568' 'GSE62951' 'GSE63483'\n",
      " 'GSE64020' 'GSE64364' 'GSE66844' 'GSE67327' 'GSE67328' 'GSE6838'\n",
      " 'GSE68740' 'GSE68742' 'GSE69150' 'GSE70434' 'GSE7185' 'GSE7864' 'GSE8501'\n",
      " 'GSE9742']\n"
     ]
    }
   ],
   "source": [
    "mlb5 = LabelEncoder()\n",
    "mlb5.fit(dataset['Series'])\n",
    "hot_Series = mlb5.transform(dataset['Series'])\n",
    "print \"Number of classes: \" + str(len(mlb5.classes_))\n",
    "print mlb5.classes_"
   ]
  },
  {
   "cell_type": "code",
   "execution_count": 14,
   "metadata": {
    "collapsed": false
   },
   "outputs": [
    {
     "name": "stdout",
     "output_type": "stream",
     "text": [
      "Number of classes: 126\n",
      "['2091' '218TGpp' '4L' '5B1' '786O' 'A172' 'A498' 'A549' 'AGS' 'Akata'\n",
      " 'BG1' 'BM-MSC' 'BOY' 'BT549' 'C4-2' 'C8161' 'CB-HSPC' 'Calu-3' 'DLD1'\n",
      " 'DU145' 'EC109' 'ES2' 'FLF' 'FaDu' 'GIST-T1' 'H1299' 'H157' 'H3255' 'H4'\n",
      " 'H441' 'H929' 'HAEC' 'HCE' 'HCT116' 'HEK293' 'HEY' 'HFL1' 'HSC3' 'HSF2'\n",
      " 'HSPC' 'HTM' 'HUVEC' 'HaCaT' 'HeLa' 'Hec50' 'HepG2' 'Hs683' 'Huh7'\n",
      " 'Human neonatal dermal fibroblasts cell' 'IMC3' 'Jurkat' 'K562' 'KATOIII'\n",
      " 'KK47' 'KYSE170' 'KYSE520' 'LNCaP' 'LSMC' 'MCF10A' 'MCF7' 'MCFDCIS'\n",
      " 'MDAMB231' 'MDDC' 'MHHES1' 'MIAPaCa2' 'MKN45' 'MKN7' 'MKN74' 'MM1R'\n",
      " 'MSK543' 'MSMC' 'Malme3M' 'MeWo' 'My-La' 'NESCs' 'NTERT1' 'Namalwa' 'OE33'\n",
      " 'OVCA' 'OVSAYO' 'P3HR1' 'PANC-1' 'PC10' 'PC3' 'PEO1' 'PEO4' 'PNET' 'RD'\n",
      " 'RPE1' 'Raji' 'Ramos' 'SAS' 'SCC25' 'SGBS' 'SHSY5Y' 'SK-LC-7' 'SKBr3'\n",
      " 'SKMEL28' 'SKMel147' 'SKNBE2' 'SKNSH' 'SKOV3' 'SNB19' 'SW1783' 'SW780'\n",
      " 'T.Tn' 'T24' 'TCP1' 'TE13' 'TE2' 'TOV21G' 'TS543' 'TW01' 'U251' 'U2OS'\n",
      " 'U87MG' 'UMUC3' 'WERI' 'WM1552C' 'caki1' 'hCMEC/D3' 'hMADS' 'hMSC-TERT'\n",
      " 'hiHep' 'keratinocytes' 'myxoid liposarcoma']\n"
     ]
    }
   ],
   "source": [
    "mlb6 = LabelEncoder()\n",
    "mlb6.fit(dataset['cell'])\n",
    "hot_cell = mlb6.transform(dataset['cell'])\n",
    "print \"Number of classes: \" + str(len(mlb6.classes_))\n",
    "print mlb6.classes_"
   ]
  },
  {
   "cell_type": "code",
   "execution_count": 15,
   "metadata": {
    "collapsed": false
   },
   "outputs": [
    {
     "name": "stdout",
     "output_type": "stream",
     "text": [
      "(1257780,)\n",
      "(1257780,)\n",
      "(1257780,)\n",
      "(1257780,)\n",
      "(1257780,)\n",
      "(1257780,)\n"
     ]
    }
   ],
   "source": [
    "print hot_SiteType.shape\n",
    "print hot_trans_reagent.shape\n",
    "print hot_genetic_background.shape\n",
    "print hot_GPL.shape\n",
    "print hot_Series.shape\n",
    "print hot_cell.shape"
   ]
  },
  {
   "cell_type": "code",
   "execution_count": 16,
   "metadata": {
    "collapsed": false
   },
   "outputs": [
    {
     "name": "stdout",
     "output_type": "stream",
     "text": [
      "[2 1 0 ..., 0 0 0]\n",
      "[9 9 5 ..., 8 9 9]\n",
      "[1 1 1 ..., 1 1 1]\n",
      "[25 25 19 ...,  0 36 36]\n",
      "[59 59 63 ..., 55 57 57]\n",
      "[ 35  35  43 ...,  83  94 100]\n"
     ]
    }
   ],
   "source": [
    "print hot_SiteType\n",
    "print hot_trans_reagent\n",
    "print hot_genetic_background\n",
    "print hot_GPL\n",
    "print hot_Series\n",
    "print hot_cell"
   ]
  },
  {
   "cell_type": "code",
   "execution_count": 17,
   "metadata": {
    "collapsed": false
   },
   "outputs": [
    {
     "name": "stderr",
     "output_type": "stream",
     "text": [
      "/usr/local/anaconda2/lib/python2.7/site-packages/ipykernel/__main__.py:2: SettingWithCopyWarning: \n",
      "A value is trying to be set on a copy of a slice from a DataFrame.\n",
      "Try using .loc[row_indexer,col_indexer] = value instead\n",
      "\n",
      "See the caveats in the documentation: http://pandas.pydata.org/pandas-docs/stable/indexing.html#indexing-view-versus-copy\n",
      "  from ipykernel import kernelapp as app\n",
      "/usr/local/anaconda2/lib/python2.7/site-packages/ipykernel/__main__.py:3: SettingWithCopyWarning: \n",
      "A value is trying to be set on a copy of a slice from a DataFrame.\n",
      "Try using .loc[row_indexer,col_indexer] = value instead\n",
      "\n",
      "See the caveats in the documentation: http://pandas.pydata.org/pandas-docs/stable/indexing.html#indexing-view-versus-copy\n",
      "  app.launch_new_instance()\n",
      "/usr/local/anaconda2/lib/python2.7/site-packages/ipykernel/__main__.py:4: SettingWithCopyWarning: \n",
      "A value is trying to be set on a copy of a slice from a DataFrame.\n",
      "Try using .loc[row_indexer,col_indexer] = value instead\n",
      "\n",
      "See the caveats in the documentation: http://pandas.pydata.org/pandas-docs/stable/indexing.html#indexing-view-versus-copy\n",
      "/usr/local/anaconda2/lib/python2.7/site-packages/ipykernel/__main__.py:5: SettingWithCopyWarning: \n",
      "A value is trying to be set on a copy of a slice from a DataFrame.\n",
      "Try using .loc[row_indexer,col_indexer] = value instead\n",
      "\n",
      "See the caveats in the documentation: http://pandas.pydata.org/pandas-docs/stable/indexing.html#indexing-view-versus-copy\n",
      "/usr/local/anaconda2/lib/python2.7/site-packages/ipykernel/__main__.py:6: SettingWithCopyWarning: \n",
      "A value is trying to be set on a copy of a slice from a DataFrame.\n",
      "Try using .loc[row_indexer,col_indexer] = value instead\n",
      "\n",
      "See the caveats in the documentation: http://pandas.pydata.org/pandas-docs/stable/indexing.html#indexing-view-versus-copy\n",
      "/usr/local/anaconda2/lib/python2.7/site-packages/ipykernel/__main__.py:7: SettingWithCopyWarning: \n",
      "A value is trying to be set on a copy of a slice from a DataFrame.\n",
      "Try using .loc[row_indexer,col_indexer] = value instead\n",
      "\n",
      "See the caveats in the documentation: http://pandas.pydata.org/pandas-docs/stable/indexing.html#indexing-view-versus-copy\n"
     ]
    }
   ],
   "source": [
    "# Substitute Categorical valuable with digits\n",
    "dataset['Site.Type'] = hot_SiteType\n",
    "dataset['trans_reagent'] = hot_trans_reagent\n",
    "dataset['genetic_background'] = hot_genetic_background\n",
    "dataset['GPL'] = hot_GPL\n",
    "dataset['Series'] = hot_Series\n",
    "dataset['cell'] = hot_cell"
   ]
  },
  {
   "cell_type": "markdown",
   "metadata": {},
   "source": [
    "### Deal with NaN"
   ]
  },
  {
   "cell_type": "code",
   "execution_count": 18,
   "metadata": {
    "collapsed": false
   },
   "outputs": [
    {
     "data": {
      "text/plain": [
       "Site.Type                               0\n",
       "TA.raw                                  0\n",
       "SPS.raw                                 0\n",
       "sRNA1A.scaled                           0\n",
       "sRNA1C.scaled                           0\n",
       "sRNA1G.scaled                           0\n",
       "sRNA8A.scaled                           0\n",
       "sRNA8C.scaled                           0\n",
       "sRNA8G.scaled                           0\n",
       "site8A.scaled                           0\n",
       "site8C.scaled                           0\n",
       "site8G.scaled                           0\n",
       "local.AU.raw                            0\n",
       "X3..pairing.raw                         0\n",
       "SA.raw                                  0\n",
       "Min_dist.raw                            0\n",
       "PCT.raw                            239268\n",
       "ORF.length.raw                          0\n",
       "X3.UTR.length.raw                       0\n",
       "Offset.6mer.raw                         0\n",
       "ORF.8mer.raw                            0\n",
       "transfection_final_conc_curated    361102\n",
       "trans_reagent                           0\n",
       "genetic_background                      0\n",
       "hours                              124942\n",
       "GPL                                     0\n",
       "Series                                  0\n",
       "cell                                    0\n",
       "log2fc                                  0\n",
       "dtype: int64"
      ]
     },
     "execution_count": 18,
     "metadata": {},
     "output_type": "execute_result"
    }
   ],
   "source": [
    "dataset_unfilled = dataset\n",
    "dataset_unfilled.isnull().sum()"
   ]
  },
  {
   "cell_type": "code",
   "execution_count": 21,
   "metadata": {
    "collapsed": false,
    "scrolled": true
   },
   "outputs": [],
   "source": [
    "from sklearn.preprocessing import Imputer\n",
    "\n",
    "imr = Imputer(missing_values='NaN', strategy='mean', axis=0)\n",
    "imr = imr.fit(dataset_unfilled)\n",
    "dataset = imr.transform(dataset_unfilled.values)"
   ]
  },
  {
   "cell_type": "code",
   "execution_count": 22,
   "metadata": {
    "collapsed": false
   },
   "outputs": [],
   "source": [
    "# Prepare Data\n",
    "\n",
    "# Split-out validation dataset\n",
    "X = dataset[:,0:28]\n",
    "Y = dataset[:,28]\n",
    "#X = dataset[:10000,0:28]\n",
    "#Y = dataset[:10000,28]\n",
    "validation_size = 0.20\n",
    "seed = 7\n",
    "X_train, X_validation, Y_train, Y_validation = train_test_split(X, Y, test_size=validation_size, random_state=seed)\n"
   ]
  },
  {
   "cell_type": "code",
   "execution_count": 78,
   "metadata": {
    "collapsed": false,
    "scrolled": true
   },
   "outputs": [
    {
     "name": "stdout",
     "output_type": "stream",
     "text": [
      "LR: -0.504863 (0.076265)\n",
      "RIDGE: -0.504856 (0.076273)\n",
      "LASSO: -0.515139 (0.081161)\n",
      "EN: -0.515162 (0.081133)\n",
      "KNN: -0.367138 (0.017981)\n",
      "CART: -0.628789 (0.067058)\n",
      "XGB: -0.321399 (0.028710)\n",
      "FFNN: -0.380478 (0.044382)\n"
     ]
    },
    {
     "data": {
      "image/png": "[encoded data removed]",
      "text/plain": [
       "<matplotlib.figure.Figure at 0x7f2e3f3d8b10>"
      ]
     },
     "metadata": {},
     "output_type": "display_data"
    }
   ],
   "source": [
    "# Evaluate Algorithms\n",
    "# Test options and evaluation metric\n",
    "num_folds = 5\n",
    "seed = 7\n",
    "scoring = 'neg_mean_squared_error'\n",
    "\n",
    "# Spot Check Algorithms\n",
    "models = []\n",
    "models.append(('LR', LinearRegression()))\n",
    "models.append(('RIDGE', Ridge()))\n",
    "models.append(('LASSO', Lasso()))\n",
    "models.append(('EN', ElasticNet()))\n",
    "models.append(('KNN', KNeighborsRegressor()))\n",
    "models.append(('CART', DecisionTreeRegressor()))\n",
    "#models.append(('SVR', SVR()))\n",
    "models.append(('XGB', XGBRegressor()))\n",
    "models.append(('FFNN', KerasRegressor(build_fn=baseline_model, epochs=2000, batch_size=1024, verbose=0)))\n",
    "\n",
    "# evaluate each model in turn\n",
    "results = []\n",
    "names = []\n",
    "for name, model in models:\n",
    "\tkfold = KFold(n_splits=num_folds, random_state=seed)\n",
    "\tcv_results = cross_val_score(model, X_train, Y_train, cv=kfold, scoring=scoring)\n",
    "\tresults.append(cv_results)\n",
    "\tnames.append(name)\n",
    "\tmsg = \"%s: %f (%f)\" % (name, cv_results.mean(), cv_results.std())\n",
    "\tprint(msg)\n",
    "\n",
    "# Compare Algorithms\n",
    "fig = pyplot.figure(figsize=(10, 7))\n",
    "fig.suptitle('Algorithm Comparison')\n",
    "ax = fig.add_subplot(111)\n",
    "pyplot.boxplot(results)\n",
    "ax.set_xticklabels(names)\n",
    "pyplot.show()"
   ]
  },
  {
   "cell_type": "code",
   "execution_count": null,
   "metadata": {
    "collapsed": false,
    "scrolled": true
   },
   "outputs": [
    {
     "name": "stdout",
     "output_type": "stream",
     "text": [
      "ScaledXGB: -0.357914 (0.007330)\n"
     ]
    }
   ],
   "source": [
    "# Test options and evaluation metric\n",
    "num_folds = 3\n",
    "seed = 7\n",
    "scoring = 'neg_mean_squared_error'\n",
    "\n",
    "# Standardize the dataset\n",
    "pipelines = []\n",
    "#pipelines.append(('ScaledLR', Pipeline([('Scaler', StandardScaler()),('LR', LinearRegression())])))\n",
    "#pipelines.append(('ScaledRIDGE', Pipeline([('Scaler', StandardScaler()),('RIDGE', Ridge())])))\n",
    "#pipelines.append(('ScaledLASSO', Pipeline([('Scaler', StandardScaler()),('LASSO', Lasso())])))\n",
    "#pipelines.append(('ScaledEN', Pipeline([('Scaler', StandardScaler()),('EN', ElasticNet())])))\n",
    "#pipelines.append(('ScaledKNN', Pipeline([('Scaler', StandardScaler()),('KNN', KNeighborsRegressor())])))\n",
    "#pipelines.append(('ScaledCART', Pipeline([('Scaler', StandardScaler()),('CART', DecisionTreeRegressor())])))\n",
    "#pipelines.append(('ScaledSVR', Pipeline([('Scaler', StandardScaler()),('SVR', SVR())])))\n",
    "pipelines.append(('ScaledXGB', Pipeline([('Scaler', StandardScaler()),('XGB', XGBRegressor())])))\n",
    "pipelines.append(('ScaledFFNN', Pipeline([('Scaler', StandardScaler()),('FFNN', KerasRegressor(build_fn=baseline_model, epochs=1000, batch_size=1024, verbose=0))])))\n",
    "\n",
    "results = []\n",
    "names = []\n",
    "\n",
    "for name, model in pipelines:\n",
    "\tkfold = KFold(n_splits=num_folds, random_state=seed)\n",
    "\tcv_results = cross_val_score(model, X_train, Y_train, cv=kfold, scoring=scoring)\n",
    "\tresults.append(cv_results)\n",
    "\tnames.append(name)\n",
    "\tmsg = \"%s: %f (%f)\" % (name, cv_results.mean(), cv_results.std())\n",
    "\tprint(msg)\n",
    "\n",
    "# Compare Algorithms\n",
    "fig = pyplot.figure(figsize=(10, 7))\n",
    "fig.suptitle('Scaled Algorithm Comparison')\n",
    "ax = fig.add_subplot(111)\n",
    "pyplot.boxplot(results)\n",
    "ax.set_xticklabels(names)\n",
    "pyplot.show()"
   ]
  },
  {
   "cell_type": "markdown",
   "metadata": {},
   "source": [
    "### Tuning Feed Forward Neural Network Topologies"
   ]
  },
  {
   "cell_type": "code",
   "execution_count": 25,
   "metadata": {
    "collapsed": false
   },
   "outputs": [],
   "source": [
    "input_dim = 28\n",
    "\n",
    "def plot_learning_curve(history):    \n",
    "    pyplot.plot(history.history['loss'])\n",
    "    pyplot.plot(history.history['val_loss'])\n",
    "    pyplot.title('model loss - Mean Squared Error(MSE)')\n",
    "    pyplot.ylabel('loss')\n",
    "    pyplot.xlabel('epoch')\n",
    "    pyplot.legend(['train', 'validation'], loc='upper right')\n",
    "    pyplot.show()\n",
    "\n",
    "# define base model\n",
    "def baseline_model():\n",
    "\t# create model\n",
    "\tmodel = Sequential()\n",
    "\tmodel.add(Dense(input_dim, input_dim=input_dim, kernel_initializer='normal', activation='relu'))\n",
    "\tmodel.add(Dense(1, kernel_initializer='normal'))\n",
    "\t# Compile model\n",
    "\tmodel.compile(loss='mean_squared_error', optimizer='adam')\n",
    "\treturn model\n",
    "\n",
    "def larger_model():\n",
    "\t# create model\n",
    "\tmodel = Sequential()\n",
    "\tmodel.add(Dense(input_dim, input_dim=input_dim, kernel_initializer='normal', activation='relu'))\n",
    "\tmodel.add(Dense(6, kernel_initializer='normal', activation='relu'))\n",
    "\tmodel.add(Dense(1, kernel_initializer='normal'))\n",
    "\t# Compile model\n",
    "\tmodel.compile(loss='mean_squared_error', optimizer='adam')\n",
    "\treturn model\n",
    "\n",
    "# define wider model\n",
    "def wider_model():\n",
    "\t# create model\n",
    "\tmodel = Sequential()\n",
    "\tmodel.add(Dense(128, input_dim=input_dim, kernel_initializer='normal', activation='relu'))\n",
    "\tmodel.add(Dense(1, kernel_initializer='normal'))\n",
    "\t# Compile model\n",
    "\tmodel.compile(loss='mean_squared_error', optimizer='adam')\n",
    "\treturn model\n",
    "\n",
    "def more_larger_model():\n",
    "\t# create model\n",
    "\tmodel = Sequential()\n",
    "\tmodel.add(Dense(input_dim, input_dim=input_dim, kernel_initializer='normal', activation='relu'))\n",
    "\tmodel.add(Dense(64, kernel_initializer='normal', activation='relu'))\n",
    "\tmodel.add(Dense(32, kernel_initializer='normal', activation='relu'))\n",
    "\tmodel.add(Dense(8, kernel_initializer='normal', activation='relu'))\n",
    "\tmodel.add(Dense(1, kernel_initializer='normal'))\n",
    "\t# Compile model\n",
    "\tmodel.compile(loss='mean_squared_error', optimizer='adam')\n",
    "\treturn model\n",
    "\n"
   ]
  },
  {
   "cell_type": "code",
   "execution_count": 76,
   "metadata": {
    "collapsed": false,
    "scrolled": true
   },
   "outputs": [
    {
     "data": {
      "image/png": "[encoded data removed]",
      "text/plain": [
       "<matplotlib.figure.Figure at 0x7f2e3ffdbcd0>"
      ]
     },
     "metadata": {},
     "output_type": "display_data"
    }
   ],
   "source": [
    "# create model\n",
    "\n",
    "\n",
    "history = []\n",
    "\n",
    "epochs=1000\n",
    "batch_size=1024\n",
    "\n",
    "# Fit the model\n",
    "model = baseline_model()\n",
    "his = model.fit(X_train, Y_train, validation_data=(X_validation,Y_validation), epochs=epochs, batch_size=batch_size, verbose=0)\n",
    "history.append(his)\n",
    "\n",
    "model = larger_model()\n",
    "his = model.fit(X_train, Y_train, validation_data=(X_validation,Y_validation), epochs=epochs, batch_size=batch_size, verbose=0)\n",
    "history.append(his)\n",
    "\n",
    "#model = wider_model()\n",
    "#his = model.fit(X_train, Y_train, validation_data=(X_validation,Y_validation), epochs=epochs, batch_size=batch_size, verbose=0)\n",
    "#history.append(his)\n",
    "\n",
    "#model = more_larger_model()\n",
    "#his = model.fit(X_train, Y_train, validation_data=(X_validation,Y_validation), epochs=epochs, batch_size=batch_size, verbose=0)\n",
    "#history.append(his)\n",
    "\n",
    "plot_learning_curve(history[0])\n",
    "plot_learning_curve(history[1])\n",
    "plot_learning_curve(history[2])\n",
    "plot_learning_curve(history[3])"
   ]
  },
  {
   "cell_type": "code",
   "execution_count": null,
   "metadata": {
    "collapsed": true
   },
   "outputs": [],
   "source": [
    "# grid search epochs, batch size and optimizer\n",
    "optimizers = ['rmsprop' , 'adam']\n",
    "inits = ['glorot_uniform', 'normal', 'uniform']\n",
    "epochs = [50, 100, 150]\n",
    "batches = [5, 10, 20]\n",
    "param_grid = dict(optimizer=optimizers, epochs=epochs, batch_size=batches, init=inits)\n",
    "grid = GridSearchCV(estimator=model, param_grid=param_grid)\n",
    "grid_result = grid.fit(X, Y)\n",
    "\n",
    "# summarize results\n",
    "print(\"Best: %f using %s\" % (grid_result.best_score_, grid_result.best_params_))\n",
    "means = grid_result.cv_results_['mean_test_score']\n",
    "stds = grid_result.cv_results_['std_test_score']\n",
    "params = grid_result.cv_results_['params']\n",
    "for mean, stdev, param in zip(means, stds, params):\n",
    "    print(\"%f (%f) with: %r\" % (mean, stdev, param))"
   ]
  },
  {
   "cell_type": "code",
   "execution_count": null,
   "metadata": {
    "collapsed": false
   },
   "outputs": [],
   "source": [
    "# Deep Neural Network Algorithm tuning\n",
    "scaler = StandardScaler().fit(X_train)\n",
    "rescaledX = scaler.transform(X_train)\n",
    "k_values = numpy.array([1,3,5,7,9,11,13,15,17,19,21])\n",
    "param_grid = dict(n_neighbors=k_values)\n",
    "model = KNeighborsRegressor()\n",
    "kfold = KFold(n_splits=num_folds, random_state=seed)\n",
    "grid = GridSearchCV(estimator=model, param_grid=param_grid, scoring=scoring, cv=kfold)\n",
    "grid_result = grid.fit(rescaledX, Y_train)\n",
    "\n",
    "print(\"Best: %f using %s\" % (grid_result.best_score_, grid_result.best_params_))\n",
    "means = grid_result.cv_results_['mean_test_score']\n",
    "stds = grid_result.cv_results_['std_test_score']\n",
    "params = grid_result.cv_results_['params']\n",
    "for mean, stdev, param in zip(means, stds, params):\n",
    "    print(\"%f (%f) with: %r\" % (mean, stdev, param))"
   ]
  },
  {
   "cell_type": "code",
   "execution_count": null,
   "metadata": {
    "collapsed": false
   },
   "outputs": [],
   "source": [
    "# ensembles\n",
    "ensembles = []\n",
    "ensembles.append(('ScaledAB', Pipeline([('Scaler', StandardScaler()),('AB', AdaBoostRegressor())])))\n",
    "ensembles.append(('ScaledGBM', Pipeline([('Scaler', StandardScaler()),('GBM', GradientBoostingRegressor())])))\n",
    "ensembles.append(('ScaledRF', Pipeline([('Scaler', StandardScaler()),('RF', RandomForestRegressor())])))\n",
    "ensembles.append(('ScaledET', Pipeline([('Scaler', StandardScaler()),('ET', ExtraTreesRegressor())])))\n",
    "results = []\n",
    "names = []\n",
    "for name, model in ensembles:\n",
    "\tkfold = KFold(n_splits=num_folds, random_state=seed)\n",
    "\tcv_results = cross_val_score(model, X_train, Y_train, cv=kfold, scoring=scoring)\n",
    "\tresults.append(cv_results)\n",
    "\tnames.append(name)\n",
    "\tmsg = \"%s: %f (%f)\" % (name, cv_results.mean(), cv_results.std())\n",
    "\tprint(msg)\n",
    "\n",
    "# Compare Algorithms\n",
    "fig = pyplot.figure()\n",
    "fig.suptitle('Scaled Ensemble Algorithm Comparison')\n",
    "ax = fig.add_subplot(111)\n",
    "pyplot.boxplot(results)\n",
    "ax.set_xticklabels(names)\n",
    "pyplot.show()"
   ]
  },
  {
   "cell_type": "code",
   "execution_count": null,
   "metadata": {
    "collapsed": false
   },
   "outputs": [],
   "source": [
    "# Tune scaled GBM\n",
    "scaler = StandardScaler().fit(X_train)\n",
    "rescaledX = scaler.transform(X_train)\n",
    "param_grid = dict(n_estimators=numpy.array([50,100,150,200,250,300,350,400]))\n",
    "model = GradientBoostingRegressor(random_state=seed)\n",
    "kfold = KFold(n_splits=num_folds, random_state=seed)\n",
    "grid = GridSearchCV(estimator=model, param_grid=param_grid, scoring=scoring, cv=kfold)\n",
    "grid_result = grid.fit(rescaledX, Y_train)\n",
    "\n",
    "print(\"Best: %f using %s\" % (grid_result.best_score_, grid_result.best_params_))\n",
    "means = grid_result.cv_results_['mean_test_score']\n",
    "stds = grid_result.cv_results_['std_test_score']\n",
    "params = grid_result.cv_results_['params']\n",
    "for mean, stdev, param in zip(means, stds, params):\n",
    "    print(\"%f (%f) with: %r\" % (mean, stdev, param))"
   ]
  },
  {
   "cell_type": "code",
   "execution_count": null,
   "metadata": {
    "collapsed": false
   },
   "outputs": [],
   "source": [
    "# Make predictions on validation dataset\n",
    "\n",
    "# prepare the model\n",
    "scaler = StandardScaler().fit(X_train)\n",
    "rescaledX = scaler.transform(X_train)\n",
    "model = GradientBoostingRegressor(random_state=seed, n_estimators=400)\n",
    "model.fit(rescaledX, Y_train)\n",
    "# transform the validation dataset\n",
    "rescaledValidationX = scaler.transform(X_validation)\n",
    "predictions = model.predict(rescaledValidationX)\n",
    "print(mean_squared_error(Y_validation, predictions))"
   ]
  },
  {
   "cell_type": "code",
   "execution_count": null,
   "metadata": {
    "collapsed": true
   },
   "outputs": [],
   "source": []
  }
 ],
 "metadata": {
  "kernelspec": {
   "display_name": "Python 2",
   "language": "python",
   "name": "python2"
  },
  "language_info": {
   "codemirror_mode": {
    "name": "ipython",
    "version": 2
   },
   "file_extension": ".py",
   "mimetype": "text/x-python",
   "name": "python",
   "nbconvert_exporter": "python",
   "pygments_lexer": "ipython2",
   "version": "2.7.13"
  }
 },
 "nbformat": 4,
 "nbformat_minor": 2
}
