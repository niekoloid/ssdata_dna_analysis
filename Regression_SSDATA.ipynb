{
 "cells": [
  {
   "cell_type": "markdown",
   "metadata": {},
   "source": [
    "## Overview"
   ]
  },
  {
   "cell_type": "markdown",
   "metadata": {},
   "source": [
    "1. Load Python Libraries for Analysis  \n",
    "\n",
    "2. Preprocess the dataset\n",
    "    - Convert categorical class labels into integers  \n",
    "    - Impute NaNs with mean  \n",
    "\n",
    "3. Compare Algorithms [Using Partial Data : 50000]\n",
    "    - For non-scaled dataset  \n",
    "    - For scaled dataset  \n",
    "    -> Ensemble methods and Neural Network shows best performance  \n",
    "\n",
    "4. More comparison [Using Partial Data : 5000]\n",
    "    - Compare Ensemble methods and Neural Network models  \n",
    "    -> Ensemble methods outperform Neural Network models\n",
    "    \n",
    "5. Tuning Hyper Parameters for XGB and GBM [Using Partial Data : 5000]\n",
    "    - Grid search\n",
    "\n",
    "6. Conclusion\n",
    "    - XGBoosting Algorithm Performs the best with the # estimator = 30.\n",
    "\n",
    "\n",
    "\n",
    "Things to do next:\n",
    "    - Plot Learning Curves\n",
    "    - Using Full Dataset and run entire analysis\n",
    "    (The bigger the data, maybe Neural Network models perform better..)"
   ]
  },
  {
   "cell_type": "markdown",
   "metadata": {},
   "source": [
    "## Load Python Libraries"
   ]
  },
  {
   "cell_type": "code",
   "execution_count": 2,
   "metadata": {
    "collapsed": false,
    "scrolled": true
   },
   "outputs": [
    {
     "name": "stderr",
     "output_type": "stream",
     "text": [
      "/usr/local/anaconda2/lib/python2.7/site-packages/sklearn/cross_validation.py:44: DeprecationWarning: This module was deprecated in version 0.18 in favor of the model_selection module into which all the refactored classes and functions are moved. Also note that the interface of the new CV iterators are different from that of this module. This module will be removed in 0.20.\n",
      "  \"This module will be removed in 0.20.\", DeprecationWarning)\n",
      "Using TensorFlow backend.\n"
     ]
    }
   ],
   "source": [
    "# Load libraries\n",
    "import numpy\n",
    "from numpy import arange\n",
    "from matplotlib import pyplot\n",
    "from pandas import read_csv\n",
    "from pandas import set_option\n",
    "from pandas.tools.plotting import scatter_matrix\n",
    "from sklearn.preprocessing import StandardScaler\n",
    "from sklearn.preprocessing import MultiLabelBinarizer\n",
    "from sklearn.preprocessing import LabelBinarizer\n",
    "from sklearn.preprocessing import LabelEncoder\n",
    "from sklearn.preprocessing import Imputer\n",
    "from sklearn.model_selection import train_test_split\n",
    "from sklearn.model_selection import KFold\n",
    "from sklearn.model_selection import StratifiedKFold\n",
    "from sklearn.model_selection import cross_val_score\n",
    "from sklearn.model_selection import GridSearchCV\n",
    "from sklearn.linear_model import LinearRegression\n",
    "from sklearn.linear_model import Lasso\n",
    "from sklearn.linear_model import Ridge\n",
    "from sklearn.linear_model import ElasticNet\n",
    "from sklearn.tree import DecisionTreeRegressor\n",
    "from sklearn.neighbors import KNeighborsRegressor\n",
    "from sklearn.svm import SVR\n",
    "from sklearn.pipeline import Pipeline\n",
    "from sklearn.ensemble import RandomForestRegressor\n",
    "from sklearn.ensemble import GradientBoostingRegressor\n",
    "from sklearn.ensemble import ExtraTreesRegressor\n",
    "from sklearn.ensemble import AdaBoostRegressor\n",
    "from sklearn.metrics import mean_squared_error\n",
    "from xgboost import XGBRegressor\n",
    "\n",
    "from keras.models import Sequential\n",
    "from keras.layers import Dense\n",
    "from keras.callbacks import ModelCheckpoint\n",
    "from keras.wrappers.scikit_learn import KerasRegressor\n",
    "%matplotlib inline"
   ]
  },
  {
   "cell_type": "markdown",
   "metadata": {},
   "source": [
    "## Preprocess the Dataset"
   ]
  },
  {
   "cell_type": "code",
   "execution_count": 3,
   "metadata": {
    "collapsed": false,
    "scrolled": true
   },
   "outputs": [
    {
     "data": {
      "text/plain": [
       "(1257780, 87)"
      ]
     },
     "execution_count": 3,
     "metadata": {},
     "output_type": "execute_result"
    }
   ],
   "source": [
    "# Load full dataset\n",
    "filename = 'ssdata_for_train_common.txt'\n",
    "dataset_full = read_csv(filename, sep='\\t')\n",
    "dataset_full.shape"
   ]
  },
  {
   "cell_type": "code",
   "execution_count": 4,
   "metadata": {
    "collapsed": false
   },
   "outputs": [
    {
     "data": {
      "text/plain": [
       "(1257780, 29)"
      ]
     },
     "execution_count": 4,
     "metadata": {},
     "output_type": "execute_result"
    }
   ],
   "source": [
    "# Select features to be used to build model\n",
    "cols = [\"Site.Type\",\"TA.raw\",\"SPS.raw\",\"sRNA1A.scaled\",\"sRNA1C.scaled\",\"sRNA1G.scaled\",\"sRNA8A.scaled\",\"sRNA8C.scaled\",\"sRNA8G.scaled\",\"site8A.scaled\",\"site8C.scaled\",\"site8G.scaled\",\"local.AU.raw\",\"X3..pairing.raw\",\"SA.raw\",\"Min_dist.raw\",\"PCT.raw\",\"ORF.length.raw\",\"X3.UTR.length.raw\",\"Offset.6mer.raw\",\"ORF.8mer.raw\",\"transfection_final_conc_curated\",\"trans_reagent\",\"genetic_background\",\"hours\",\"GPL\",\"Series\",\"cell\",\"log2fc\"]\n",
    "dataset_trim = dataset_full[cols]\n",
    "dataset_trim.shape"
   ]
  },
  {
   "cell_type": "code",
   "execution_count": 5,
   "metadata": {
    "collapsed": false
   },
   "outputs": [
    {
     "data": {
      "text/html": [
       "<div>\n",
       "<table border=\"1\" class=\"dataframe\">\n",
       "  <thead>\n",
       "    <tr style=\"text-align: right;\">\n",
       "      <th></th>\n",
       "      <th>Site.Type</th>\n",
       "      <th>TA.raw</th>\n",
       "      <th>SPS.raw</th>\n",
       "      <th>sRNA1A.scaled</th>\n",
       "      <th>sRNA1C.scaled</th>\n",
       "      <th>sRNA1G.scaled</th>\n",
       "      <th>sRNA8A.scaled</th>\n",
       "      <th>sRNA8C.scaled</th>\n",
       "      <th>sRNA8G.scaled</th>\n",
       "      <th>site8A.scaled</th>\n",
       "      <th>...</th>\n",
       "      <th>Offset.6mer.raw</th>\n",
       "      <th>ORF.8mer.raw</th>\n",
       "      <th>transfection_final_conc_curated</th>\n",
       "      <th>trans_reagent</th>\n",
       "      <th>genetic_background</th>\n",
       "      <th>hours</th>\n",
       "      <th>GPL</th>\n",
       "      <th>Series</th>\n",
       "      <th>cell</th>\n",
       "      <th>log2fc</th>\n",
       "    </tr>\n",
       "  </thead>\n",
       "  <tbody>\n",
       "    <tr>\n",
       "      <th>0</th>\n",
       "      <td>7mer-m8</td>\n",
       "      <td>3.704</td>\n",
       "      <td>-8.80</td>\n",
       "      <td>0</td>\n",
       "      <td>0</td>\n",
       "      <td>0</td>\n",
       "      <td>0</td>\n",
       "      <td>0</td>\n",
       "      <td>1</td>\n",
       "      <td>0</td>\n",
       "      <td>...</td>\n",
       "      <td>1</td>\n",
       "      <td>0</td>\n",
       "      <td>2.500000e-08</td>\n",
       "      <td>Lipofectamine2000</td>\n",
       "      <td>wildtype</td>\n",
       "      <td>48.0</td>\n",
       "      <td>GPL570</td>\n",
       "      <td>GSE27431</td>\n",
       "      <td>HEY</td>\n",
       "      <td>0.167583</td>\n",
       "    </tr>\n",
       "    <tr>\n",
       "      <th>1</th>\n",
       "      <td>7mer-1a</td>\n",
       "      <td>3.621</td>\n",
       "      <td>-6.43</td>\n",
       "      <td>0</td>\n",
       "      <td>0</td>\n",
       "      <td>0</td>\n",
       "      <td>0</td>\n",
       "      <td>1</td>\n",
       "      <td>0</td>\n",
       "      <td>0</td>\n",
       "      <td>...</td>\n",
       "      <td>0</td>\n",
       "      <td>0</td>\n",
       "      <td>2.500000e-08</td>\n",
       "      <td>Lipofectamine2000</td>\n",
       "      <td>wildtype</td>\n",
       "      <td>48.0</td>\n",
       "      <td>GPL570</td>\n",
       "      <td>GSE27431</td>\n",
       "      <td>HEY</td>\n",
       "      <td>0.353088</td>\n",
       "    </tr>\n",
       "    <tr>\n",
       "      <th>2</th>\n",
       "      <td>6mer</td>\n",
       "      <td>3.539</td>\n",
       "      <td>-5.66</td>\n",
       "      <td>0</td>\n",
       "      <td>0</td>\n",
       "      <td>0</td>\n",
       "      <td>0</td>\n",
       "      <td>0</td>\n",
       "      <td>0</td>\n",
       "      <td>0</td>\n",
       "      <td>...</td>\n",
       "      <td>0</td>\n",
       "      <td>0</td>\n",
       "      <td>5.000000e-08</td>\n",
       "      <td>HiPerFect</td>\n",
       "      <td>wildtype</td>\n",
       "      <td>40.0</td>\n",
       "      <td>GPL4133</td>\n",
       "      <td>GSE28522</td>\n",
       "      <td>HeLa</td>\n",
       "      <td>0.275285</td>\n",
       "    </tr>\n",
       "    <tr>\n",
       "      <th>3</th>\n",
       "      <td>6mer</td>\n",
       "      <td>3.539</td>\n",
       "      <td>-5.66</td>\n",
       "      <td>0</td>\n",
       "      <td>0</td>\n",
       "      <td>0</td>\n",
       "      <td>0</td>\n",
       "      <td>0</td>\n",
       "      <td>0</td>\n",
       "      <td>0</td>\n",
       "      <td>...</td>\n",
       "      <td>0</td>\n",
       "      <td>0</td>\n",
       "      <td>5.000000e-08</td>\n",
       "      <td>HiPerFect</td>\n",
       "      <td>wildtype</td>\n",
       "      <td>40.0</td>\n",
       "      <td>GPL4133</td>\n",
       "      <td>GSE28522</td>\n",
       "      <td>TW01</td>\n",
       "      <td>-0.023325</td>\n",
       "    </tr>\n",
       "    <tr>\n",
       "      <th>4</th>\n",
       "      <td>6mer</td>\n",
       "      <td>3.569</td>\n",
       "      <td>-3.58</td>\n",
       "      <td>0</td>\n",
       "      <td>0</td>\n",
       "      <td>0</td>\n",
       "      <td>1</td>\n",
       "      <td>0</td>\n",
       "      <td>0</td>\n",
       "      <td>0</td>\n",
       "      <td>...</td>\n",
       "      <td>1</td>\n",
       "      <td>0</td>\n",
       "      <td>NaN</td>\n",
       "      <td>HiPerFect</td>\n",
       "      <td>wildtype</td>\n",
       "      <td>96.0</td>\n",
       "      <td>GPL13607</td>\n",
       "      <td>GSE29207</td>\n",
       "      <td>hMADS</td>\n",
       "      <td>0.009550</td>\n",
       "    </tr>\n",
       "  </tbody>\n",
       "</table>\n",
       "<p>5 rows × 29 columns</p>\n",
       "</div>"
      ],
      "text/plain": [
       "  Site.Type  TA.raw  SPS.raw  sRNA1A.scaled  sRNA1C.scaled  sRNA1G.scaled  \\\n",
       "0   7mer-m8   3.704    -8.80              0              0              0   \n",
       "1   7mer-1a   3.621    -6.43              0              0              0   \n",
       "2      6mer   3.539    -5.66              0              0              0   \n",
       "3      6mer   3.539    -5.66              0              0              0   \n",
       "4      6mer   3.569    -3.58              0              0              0   \n",
       "\n",
       "   sRNA8A.scaled  sRNA8C.scaled  sRNA8G.scaled  site8A.scaled    ...     \\\n",
       "0              0              0              1              0    ...      \n",
       "1              0              1              0              0    ...      \n",
       "2              0              0              0              0    ...      \n",
       "3              0              0              0              0    ...      \n",
       "4              1              0              0              0    ...      \n",
       "\n",
       "   Offset.6mer.raw  ORF.8mer.raw  transfection_final_conc_curated  \\\n",
       "0                1             0                     2.500000e-08   \n",
       "1                0             0                     2.500000e-08   \n",
       "2                0             0                     5.000000e-08   \n",
       "3                0             0                     5.000000e-08   \n",
       "4                1             0                              NaN   \n",
       "\n",
       "       trans_reagent  genetic_background  hours       GPL    Series   cell  \\\n",
       "0  Lipofectamine2000            wildtype   48.0    GPL570  GSE27431    HEY   \n",
       "1  Lipofectamine2000            wildtype   48.0    GPL570  GSE27431    HEY   \n",
       "2          HiPerFect            wildtype   40.0   GPL4133  GSE28522   HeLa   \n",
       "3          HiPerFect            wildtype   40.0   GPL4133  GSE28522   TW01   \n",
       "4          HiPerFect            wildtype   96.0  GPL13607  GSE29207  hMADS   \n",
       "\n",
       "     log2fc  \n",
       "0  0.167583  \n",
       "1  0.353088  \n",
       "2  0.275285  \n",
       "3 -0.023325  \n",
       "4  0.009550  \n",
       "\n",
       "[5 rows x 29 columns]"
      ]
     },
     "execution_count": 5,
     "metadata": {},
     "output_type": "execute_result"
    }
   ],
   "source": [
    "dataset_trim.head()"
   ]
  },
  {
   "cell_type": "code",
   "execution_count": 6,
   "metadata": {
    "collapsed": false
   },
   "outputs": [
    {
     "name": "stdout",
     "output_type": "stream",
     "text": [
      "(1257780, 29)\n",
      "Site.Type                           object\n",
      "TA.raw                             float64\n",
      "SPS.raw                            float64\n",
      "sRNA1A.scaled                        int64\n",
      "sRNA1C.scaled                        int64\n",
      "sRNA1G.scaled                        int64\n",
      "sRNA8A.scaled                        int64\n",
      "sRNA8C.scaled                        int64\n",
      "sRNA8G.scaled                        int64\n",
      "site8A.scaled                        int64\n",
      "site8C.scaled                        int64\n",
      "site8G.scaled                        int64\n",
      "local.AU.raw                       float64\n",
      "X3..pairing.raw                    float64\n",
      "SA.raw                             float64\n",
      "Min_dist.raw                       float64\n",
      "PCT.raw                            float64\n",
      "ORF.length.raw                     float64\n",
      "X3.UTR.length.raw                  float64\n",
      "Offset.6mer.raw                      int64\n",
      "ORF.8mer.raw                         int64\n",
      "transfection_final_conc_curated    float64\n",
      "trans_reagent                       object\n",
      "genetic_background                  object\n",
      "hours                              float64\n",
      "GPL                                 object\n",
      "Series                              object\n",
      "cell                                object\n",
      "log2fc                             float64\n",
      "dtype: object\n"
     ]
    }
   ],
   "source": [
    "# Summarize Data\n",
    "\n",
    "# shape\n",
    "print(dataset_trim.shape)\n",
    "# types\n",
    "print(dataset_trim.dtypes)"
   ]
  },
  {
   "cell_type": "markdown",
   "metadata": {},
   "source": [
    "### Preprocess Categorical Data"
   ]
  },
  {
   "cell_type": "code",
   "execution_count": 7,
   "metadata": {
    "collapsed": false
   },
   "outputs": [
    {
     "name": "stdout",
     "output_type": "stream",
     "text": [
      "Site.Type\n",
      "6mer       663452\n",
      "7mer-1a    230616\n",
      "7mer-m8    265919\n",
      "8mer-1a     97793\n",
      "dtype: int64\n",
      "\n",
      "trans_reagent\n",
      "Amaxa nucleofection             7284\n",
      "Cell Line Nucleofector kit     30919\n",
      "DharmaFECT                     22992\n",
      "DharmaFECT3                     8502\n",
      "HiPerFect                      66767\n",
      "INTERFERin                      2575\n",
      "Lentiviral vector              72953\n",
      "Lipofectamin RNAi MAX         406776\n",
      "Lipofectamine2000             378591\n",
      "MicroPorator MP-100             2528\n",
      "Neon transfection System        3642\n",
      "Oligofectamine                 20673\n",
      "PureFection                     6704\n",
      "Retroviral vector              13148\n",
      "SilentFect                     28828\n",
      "Viral vector                    3042\n",
      "X-tremeGENE siRNA               3857\n",
      "siPORT neo-FX                  32412\n",
      "dtype: int64\n",
      "\n",
      "genetic_background\n",
      "Dicer        119591\n",
      "wildtype    1138189\n",
      "dtype: int64\n",
      "\n",
      "GPL\n",
      "GPL10332    128884\n",
      "GPL10558    127171\n",
      "GPL10739      2972\n",
      "GPL10904      7124\n",
      "GPL13158      7466\n",
      "GPL13497      8884\n",
      "GPL13607    110402\n",
      "GPL13915     11186\n",
      "GPL14550      7770\n",
      "GPL1456      19115\n",
      "GPL15207      3699\n",
      "GPL15338      2748\n",
      "GPL15496      3307\n",
      "GPL16359      2990\n",
      "GPL16699     24138\n",
      "GPL1708       3215\n",
      "GPL1749       9549\n",
      "GPL19383      3740\n",
      "GPL3991      98930\n",
      "GPL4133     140503\n",
      "GPL4372      81797\n",
      "GPL4925       2354\n",
      "GPL5104       2611\n",
      "GPL5175       5396\n",
      "GPL5639       1010\n",
      "GPL570      153470\n",
      "GPL571       14982\n",
      "GPL5799       3484\n",
      "GPL6098       3193\n",
      "GPL6102      14767\n",
      "GPL6104       7923\n",
      "GPL6171       4372\n",
      "GPL6244      70752\n",
      "GPL6480      70869\n",
      "GPL6793       3030\n",
      "GPL6848       7436\n",
      "GPL6879      25300\n",
      "GPL6883       8702\n",
      "GPL6884      11356\n",
      "GPL6947      28476\n",
      "GPL7038       3676\n",
      "GPL7504       3141\n",
      "GPL8755       2872\n",
      "GPL885        3018\n",
      "dtype: int64\n",
      "\n",
      "Series\n",
      "GSE10057     3646\n",
      "GSE10455     7359\n",
      "GSE10864     2973\n",
      "GSE11701     2365\n",
      "GSE11778     3030\n",
      "GSE12100     4993\n",
      "GSE12278    10575\n",
      "GSE12615     1990\n",
      "GSE13105     9638\n",
      "GSE13286     3513\n",
      "GSE13674     3484\n",
      "GSE14477     2765\n",
      "GSE14507     4017\n",
      "GSE14537     8132\n",
      "GSE14831    16196\n",
      "GSE14847    14767\n",
      "GSE15281     2821\n",
      "GSE16239     2528\n",
      "GSE16568     3857\n",
      "GSE16571     1000\n",
      "GSE16674     3740\n",
      "GSE16700     3823\n",
      "GSE16988     3734\n",
      "GSE17460     2575\n",
      "GSE17508     3830\n",
      "GSE17828     2611\n",
      "GSE18510     3491\n",
      "GSE18545     5897\n",
      "GSE18625     3829\n",
      "GSE18695     4698\n",
      "            ...  \n",
      "GSE56967     3287\n",
      "GSE57158     3042\n",
      "GSE57676     8289\n",
      "GSE57820     3889\n",
      "GSE58004     2778\n",
      "GSE58142     1040\n",
      "GSE59458     3924\n",
      "GSE59805     3654\n",
      "GSE60766    13227\n",
      "GSE61078     3248\n",
      "GSE61139     2943\n",
      "GSE6207      4115\n",
      "GSE62453     3560\n",
      "GSE62568     4084\n",
      "GSE62951     3740\n",
      "GSE63483     1381\n",
      "GSE64020     7124\n",
      "GSE64364     6235\n",
      "GSE66844     3699\n",
      "GSE67327     4251\n",
      "GSE67328     4251\n",
      "GSE6838     72855\n",
      "GSE68740     3806\n",
      "GSE68742     4084\n",
      "GSE69150     3630\n",
      "GSE70434     3463\n",
      "GSE7185      2354\n",
      "GSE7864     52255\n",
      "GSE8501     29783\n",
      "GSE9742      4372\n",
      "dtype: int64\n",
      "\n",
      "cell\n",
      "2091                   2990\n",
      "218TGpp                2972\n",
      "4L                     3306\n",
      "5B1                    3306\n",
      "786O                  11080\n",
      "A172                   3030\n",
      "A498                  48134\n",
      "A549                  32872\n",
      "AGS                    4949\n",
      "Akata                  6619\n",
      "BG1                    1990\n",
      "BM-MSC                 3903\n",
      "BOY                    4928\n",
      "BT549                 14317\n",
      "C4-2                   1003\n",
      "C8161                  3042\n",
      "CB-HSPC                4752\n",
      "Calu-3                 3049\n",
      "DLD1                  43210\n",
      "DU145                 45692\n",
      "EC109                  2748\n",
      "ES2                    3857\n",
      "FLF                    6551\n",
      "FaDu                  26090\n",
      "GIST-T1                7890\n",
      "H1299                  2709\n",
      "H157                   3378\n",
      "H3255                  5580\n",
      "H4                    12422\n",
      "H441                   2780\n",
      "                      ...  \n",
      "SKBr3                  3513\n",
      "SKMEL28                3781\n",
      "SKMel147               2752\n",
      "SKNBE2                 7466\n",
      "SKNSH                 12650\n",
      "SKOV3                  3562\n",
      "SNB19                  3877\n",
      "SW1783                 3119\n",
      "SW780                  3346\n",
      "T.Tn                   3544\n",
      "T24                   19653\n",
      "TCP1                   2868\n",
      "TE13                   3779\n",
      "TE2                    7323\n",
      "TOV21G                10451\n",
      "TS543                  3704\n",
      "TW01                   3806\n",
      "U251                  10905\n",
      "U2OS                   7466\n",
      "U87MG                  6913\n",
      "UMUC3                  3484\n",
      "WERI                   2354\n",
      "WM1552C                2821\n",
      "caki1                 14195\n",
      "hCMEC/D3               1585\n",
      "hMADS                 13472\n",
      "hMSC-TERT              3924\n",
      "hiHep                  3699\n",
      "keratinocytes          2943\n",
      "myxoid liposarcoma     2872\n",
      "dtype: int64\n",
      "\n"
     ]
    }
   ],
   "source": [
    "# Show classes in the features in object type, which must be transformed into digits.\n",
    "obj_cols = ['Site.Type', \"trans_reagent\",\"genetic_background\",\"GPL\",\"Series\",\"cell\",]\n",
    "for i, v in enumerate(obj_cols):\n",
    "    print dataset_trim.groupby(v).size()\n",
    "    print "
   ]
  },
  {
   "cell_type": "code",
   "execution_count": 8,
   "metadata": {
    "collapsed": false
   },
   "outputs": [
    {
     "name": "stderr",
     "output_type": "stream",
     "text": [
      "/usr/local/anaconda2/lib/python2.7/site-packages/ipykernel/__main__.py:7: SettingWithCopyWarning: \n",
      "A value is trying to be set on a copy of a slice from a DataFrame.\n",
      "Try using .loc[row_indexer,col_indexer] = value instead\n",
      "\n",
      "See the caveats in the documentation: http://pandas.pydata.org/pandas-docs/stable/indexing.html#indexing-view-versus-copy\n"
     ]
    },
    {
     "name": "stdout",
     "output_type": "stream",
     "text": [
      "Number of classes for Site.Type : 4\n"
     ]
    },
    {
     "name": "stderr",
     "output_type": "stream",
     "text": [
      "/usr/local/anaconda2/lib/python2.7/site-packages/numpy/lib/arraysetops.py:216: FutureWarning: numpy not_equal will not check object identity in the future. The comparison did not return the same result as suggested by the identity (`is`)) and will change.\n",
      "  flag = np.concatenate(([True], aux[1:] != aux[:-1]))\n",
      "/usr/local/anaconda2/lib/python2.7/site-packages/numpy/lib/arraysetops.py:275: FutureWarning: numpy equal will not check object identity in the future. The comparison did not return the same result as suggested by the identity (`is`)) and will change.\n",
      "  return aux[:-1][aux[1:] == aux[:-1]]\n"
     ]
    },
    {
     "name": "stdout",
     "output_type": "stream",
     "text": [
      "Number of classes for trans_reagent : 19\n",
      "Number of classes for genetic_background : 2\n",
      "Number of classes for GPL : 44\n",
      "Number of classes for Series : 176\n",
      "Number of classes for cell : 126\n"
     ]
    },
    {
     "data": {
      "text/html": [
       "<div>\n",
       "<table border=\"1\" class=\"dataframe\">\n",
       "  <thead>\n",
       "    <tr style=\"text-align: right;\">\n",
       "      <th></th>\n",
       "      <th>Site.Type</th>\n",
       "      <th>TA.raw</th>\n",
       "      <th>SPS.raw</th>\n",
       "      <th>sRNA1A.scaled</th>\n",
       "      <th>sRNA1C.scaled</th>\n",
       "      <th>sRNA1G.scaled</th>\n",
       "      <th>sRNA8A.scaled</th>\n",
       "      <th>sRNA8C.scaled</th>\n",
       "      <th>sRNA8G.scaled</th>\n",
       "      <th>site8A.scaled</th>\n",
       "      <th>...</th>\n",
       "      <th>Offset.6mer.raw</th>\n",
       "      <th>ORF.8mer.raw</th>\n",
       "      <th>transfection_final_conc_curated</th>\n",
       "      <th>trans_reagent</th>\n",
       "      <th>genetic_background</th>\n",
       "      <th>hours</th>\n",
       "      <th>GPL</th>\n",
       "      <th>Series</th>\n",
       "      <th>cell</th>\n",
       "      <th>log2fc</th>\n",
       "    </tr>\n",
       "  </thead>\n",
       "  <tbody>\n",
       "    <tr>\n",
       "      <th>0</th>\n",
       "      <td>2</td>\n",
       "      <td>3.704</td>\n",
       "      <td>-8.80</td>\n",
       "      <td>0</td>\n",
       "      <td>0</td>\n",
       "      <td>0</td>\n",
       "      <td>0</td>\n",
       "      <td>0</td>\n",
       "      <td>1</td>\n",
       "      <td>0</td>\n",
       "      <td>...</td>\n",
       "      <td>1</td>\n",
       "      <td>0</td>\n",
       "      <td>2.500000e-08</td>\n",
       "      <td>9</td>\n",
       "      <td>1</td>\n",
       "      <td>48.0</td>\n",
       "      <td>25</td>\n",
       "      <td>59</td>\n",
       "      <td>35</td>\n",
       "      <td>0.167583</td>\n",
       "    </tr>\n",
       "    <tr>\n",
       "      <th>1</th>\n",
       "      <td>1</td>\n",
       "      <td>3.621</td>\n",
       "      <td>-6.43</td>\n",
       "      <td>0</td>\n",
       "      <td>0</td>\n",
       "      <td>0</td>\n",
       "      <td>0</td>\n",
       "      <td>1</td>\n",
       "      <td>0</td>\n",
       "      <td>0</td>\n",
       "      <td>...</td>\n",
       "      <td>0</td>\n",
       "      <td>0</td>\n",
       "      <td>2.500000e-08</td>\n",
       "      <td>9</td>\n",
       "      <td>1</td>\n",
       "      <td>48.0</td>\n",
       "      <td>25</td>\n",
       "      <td>59</td>\n",
       "      <td>35</td>\n",
       "      <td>0.353088</td>\n",
       "    </tr>\n",
       "    <tr>\n",
       "      <th>2</th>\n",
       "      <td>0</td>\n",
       "      <td>3.539</td>\n",
       "      <td>-5.66</td>\n",
       "      <td>0</td>\n",
       "      <td>0</td>\n",
       "      <td>0</td>\n",
       "      <td>0</td>\n",
       "      <td>0</td>\n",
       "      <td>0</td>\n",
       "      <td>0</td>\n",
       "      <td>...</td>\n",
       "      <td>0</td>\n",
       "      <td>0</td>\n",
       "      <td>5.000000e-08</td>\n",
       "      <td>5</td>\n",
       "      <td>1</td>\n",
       "      <td>40.0</td>\n",
       "      <td>19</td>\n",
       "      <td>63</td>\n",
       "      <td>43</td>\n",
       "      <td>0.275285</td>\n",
       "    </tr>\n",
       "    <tr>\n",
       "      <th>3</th>\n",
       "      <td>0</td>\n",
       "      <td>3.539</td>\n",
       "      <td>-5.66</td>\n",
       "      <td>0</td>\n",
       "      <td>0</td>\n",
       "      <td>0</td>\n",
       "      <td>0</td>\n",
       "      <td>0</td>\n",
       "      <td>0</td>\n",
       "      <td>0</td>\n",
       "      <td>...</td>\n",
       "      <td>0</td>\n",
       "      <td>0</td>\n",
       "      <td>5.000000e-08</td>\n",
       "      <td>5</td>\n",
       "      <td>1</td>\n",
       "      <td>40.0</td>\n",
       "      <td>19</td>\n",
       "      <td>63</td>\n",
       "      <td>112</td>\n",
       "      <td>-0.023325</td>\n",
       "    </tr>\n",
       "    <tr>\n",
       "      <th>4</th>\n",
       "      <td>0</td>\n",
       "      <td>3.569</td>\n",
       "      <td>-3.58</td>\n",
       "      <td>0</td>\n",
       "      <td>0</td>\n",
       "      <td>0</td>\n",
       "      <td>1</td>\n",
       "      <td>0</td>\n",
       "      <td>0</td>\n",
       "      <td>0</td>\n",
       "      <td>...</td>\n",
       "      <td>1</td>\n",
       "      <td>0</td>\n",
       "      <td>NaN</td>\n",
       "      <td>5</td>\n",
       "      <td>1</td>\n",
       "      <td>96.0</td>\n",
       "      <td>6</td>\n",
       "      <td>66</td>\n",
       "      <td>121</td>\n",
       "      <td>0.009550</td>\n",
       "    </tr>\n",
       "  </tbody>\n",
       "</table>\n",
       "<p>5 rows × 29 columns</p>\n",
       "</div>"
      ],
      "text/plain": [
       "   Site.Type  TA.raw  SPS.raw  sRNA1A.scaled  sRNA1C.scaled  sRNA1G.scaled  \\\n",
       "0          2   3.704    -8.80              0              0              0   \n",
       "1          1   3.621    -6.43              0              0              0   \n",
       "2          0   3.539    -5.66              0              0              0   \n",
       "3          0   3.539    -5.66              0              0              0   \n",
       "4          0   3.569    -3.58              0              0              0   \n",
       "\n",
       "   sRNA8A.scaled  sRNA8C.scaled  sRNA8G.scaled  site8A.scaled    ...     \\\n",
       "0              0              0              1              0    ...      \n",
       "1              0              1              0              0    ...      \n",
       "2              0              0              0              0    ...      \n",
       "3              0              0              0              0    ...      \n",
       "4              1              0              0              0    ...      \n",
       "\n",
       "   Offset.6mer.raw  ORF.8mer.raw  transfection_final_conc_curated  \\\n",
       "0                1             0                     2.500000e-08   \n",
       "1                0             0                     2.500000e-08   \n",
       "2                0             0                     5.000000e-08   \n",
       "3                0             0                     5.000000e-08   \n",
       "4                1             0                              NaN   \n",
       "\n",
       "   trans_reagent  genetic_background  hours  GPL  Series  cell    log2fc  \n",
       "0              9                   1   48.0   25      59    35  0.167583  \n",
       "1              9                   1   48.0   25      59    35  0.353088  \n",
       "2              5                   1   40.0   19      63    43  0.275285  \n",
       "3              5                   1   40.0   19      63   112 -0.023325  \n",
       "4              5                   1   96.0    6      66   121  0.009550  \n",
       "\n",
       "[5 rows x 29 columns]"
      ]
     },
     "execution_count": 8,
     "metadata": {},
     "output_type": "execute_result"
    }
   ],
   "source": [
    "dataset_enc = dataset_trim\n",
    "mlb = []\n",
    "obj_cols = ['Site.Type', \"trans_reagent\",\"genetic_background\",\"GPL\",\"Series\",\"cell\",]\n",
    "for i, v in enumerate(obj_cols):    \n",
    "    mlb.append(LabelEncoder())\n",
    "    mlb[i].fit(dataset_trim[v])\n",
    "    dataset_enc[v] = mlb[i].transform(dataset_trim[v])\n",
    "    print \"Number of classes for \" + v + \" : \" + str(len(mlb[i].classes_))\n",
    "    #print mlb[i].classes_\n",
    "dataset_enc.head()"
   ]
  },
  {
   "cell_type": "markdown",
   "metadata": {},
   "source": [
    "### Deal with NaN"
   ]
  },
  {
   "cell_type": "code",
   "execution_count": 9,
   "metadata": {
    "collapsed": false
   },
   "outputs": [
    {
     "data": {
      "text/plain": [
       "Site.Type                               0\n",
       "TA.raw                                  0\n",
       "SPS.raw                                 0\n",
       "sRNA1A.scaled                           0\n",
       "sRNA1C.scaled                           0\n",
       "sRNA1G.scaled                           0\n",
       "sRNA8A.scaled                           0\n",
       "sRNA8C.scaled                           0\n",
       "sRNA8G.scaled                           0\n",
       "site8A.scaled                           0\n",
       "site8C.scaled                           0\n",
       "site8G.scaled                           0\n",
       "local.AU.raw                            0\n",
       "X3..pairing.raw                         0\n",
       "SA.raw                                  0\n",
       "Min_dist.raw                            0\n",
       "PCT.raw                            239268\n",
       "ORF.length.raw                          0\n",
       "X3.UTR.length.raw                       0\n",
       "Offset.6mer.raw                         0\n",
       "ORF.8mer.raw                            0\n",
       "transfection_final_conc_curated    361102\n",
       "trans_reagent                           0\n",
       "genetic_background                      0\n",
       "hours                              124942\n",
       "GPL                                     0\n",
       "Series                                  0\n",
       "cell                                    0\n",
       "log2fc                                  0\n",
       "dtype: int64"
      ]
     },
     "execution_count": 9,
     "metadata": {},
     "output_type": "execute_result"
    }
   ],
   "source": [
    "dataset_unfilled = dataset_enc\n",
    "dataset_unfilled.isnull().sum()"
   ]
  },
  {
   "cell_type": "code",
   "execution_count": 25,
   "metadata": {
    "collapsed": false,
    "scrolled": true
   },
   "outputs": [],
   "source": [
    "# Imputing NaN with mean value of the entire column\n",
    "imr = Imputer(missing_values='NaN', strategy='mean', axis=0)\n",
    "imr = imr.fit(dataset_unfilled)\n",
    "dataset = imr.transform(dataset_unfilled)"
   ]
  },
  {
   "cell_type": "code",
   "execution_count": 27,
   "metadata": {
    "collapsed": false
   },
   "outputs": [],
   "source": [
    "import pickle\n",
    "\n",
    "with open('dataset_enc.pickle', 'wb') as f:\n",
    "    pickle.dump(dataset, f)"
   ]
  },
  {
   "cell_type": "markdown",
   "metadata": {},
   "source": [
    "## Compare Algorithms"
   ]
  },
  {
   "cell_type": "code",
   "execution_count": 28,
   "metadata": {
    "collapsed": true
   },
   "outputs": [],
   "source": [
    "with open('dataset_enc.pickle', 'rb') as f:\n",
    "    dataset = pickle.load(f)"
   ]
  },
  {
   "cell_type": "code",
   "execution_count": 29,
   "metadata": {
    "collapsed": false
   },
   "outputs": [
    {
     "data": {
      "text/plain": [
       "array([ 585904, 1238213,  573978, ...,  300660,  536858,  390480])"
      ]
     },
     "execution_count": 29,
     "metadata": {},
     "output_type": "execute_result"
    }
   ],
   "source": [
    "seed = 7\n",
    "numpy.random.seed(seed=seed)\n",
    "rand_ix=numpy.random.randint(1, dataset.shape[0], size=50000)\n",
    "rand_ix"
   ]
  },
  {
   "cell_type": "code",
   "execution_count": 31,
   "metadata": {
    "collapsed": false
   },
   "outputs": [],
   "source": [
    "# Prepare Data\n",
    "# Split-out validation dataset\n",
    "\n",
    "# Use Entire Data\n",
    "#X = dataset[:,0:28]\n",
    "#Y = dataset[:,28]\n",
    "\n",
    "# Use only partial Data\n",
    "X = dataset[rand_ix,0:28]\n",
    "Y = dataset[rand_ix,28]\n",
    "\n",
    "validation_size = 0.20\n",
    "X_train, X_validation, Y_train, Y_validation = train_test_split(X, Y, test_size=validation_size, random_state=seed)"
   ]
  },
  {
   "cell_type": "code",
   "execution_count": 44,
   "metadata": {
    "collapsed": true
   },
   "outputs": [],
   "source": [
    "# Base model for Feed Forward Neural Network using Keras Regressor\n",
    "def baseline_model():\n",
    "\t# create model\n",
    "\tmodel = Sequential()\n",
    "\tmodel.add(Dense(input_dim, input_dim=input_dim, kernel_initializer='normal', activation='relu'))\n",
    "\tmodel.add(Dense(1, kernel_initializer='normal'))\n",
    "\t# Compile model\n",
    "\tmodel.compile(loss='mean_squared_error', optimizer='adam')\n",
    "\treturn model"
   ]
  },
  {
   "cell_type": "code",
   "execution_count": 32,
   "metadata": {
    "collapsed": false
   },
   "outputs": [
    {
     "name": "stdout",
     "output_type": "stream",
     "text": [
      "LR: -0.612589 (0.045929)\n",
      "RIDGE: -0.612588 (0.045929)\n",
      "LASSO: -0.625626 (0.049576)\n",
      "EN: -0.624634 (0.049577)\n",
      "KNN: -0.432357 (0.018166)\n",
      "CART: -0.800002 (0.041370)\n",
      "SVR: -0.375875 (0.014601)\n",
      "XGB: -0.368678 (0.018903)\n",
      "FFNN: -0.378919 (0.020698)\n"
     ]
    },
    {
     "data": {
      "image/png": "[encoded data removed]",
      "text/plain": [
       "<matplotlib.figure.Figure at 0x7ff3b795ed90>"
      ]
     },
     "metadata": {},
     "output_type": "display_data"
    }
   ],
   "source": [
    "# Evaluate Algorithms\n",
    "# Test options and evaluation metric\n",
    "num_folds = 5\n",
    "seed = 7\n",
    "scoring = 'neg_mean_squared_error'\n",
    "\n",
    "# Spot Check Algorithms\n",
    "models = []\n",
    "models.append(('LR', LinearRegression()))\n",
    "models.append(('RIDGE', Ridge()))\n",
    "models.append(('LASSO', Lasso()))\n",
    "models.append(('EN', ElasticNet()))\n",
    "models.append(('KNN', KNeighborsRegressor()))\n",
    "models.append(('CART', DecisionTreeRegressor()))\n",
    "models.append(('SVR', SVR()))\n",
    "models.append(('XGB', XGBRegressor()))\n",
    "models.append(('FFNN', KerasRegressor(build_fn=baseline_model, epochs=2000, batch_size=1024, verbose=0)))\n",
    "\n",
    "# evaluate each model in turn\n",
    "results = []\n",
    "names = []\n",
    "for name, model in models:\n",
    "\tkfold = KFold(n_splits=num_folds, random_state=seed)\n",
    "\tcv_results = cross_val_score(model, X_train, Y_train, cv=kfold, scoring=scoring)\n",
    "\tresults.append(cv_results)\n",
    "\tnames.append(name)\n",
    "\tmsg = \"%s: %f (%f)\" % (name, cv_results.mean(), cv_results.std())\n",
    "\tprint(msg)\n",
    "\n",
    "# Compare Algorithms\n",
    "fig = pyplot.figure(figsize=(10, 7))\n",
    "fig.suptitle('Algorithm Comparison')\n",
    "ax = fig.add_subplot(111)\n",
    "pyplot.boxplot(results)\n",
    "ax.set_xticklabels(names)\n",
    "pyplot.show()"
   ]
  },
  {
   "cell_type": "code",
   "execution_count": 33,
   "metadata": {
    "collapsed": false
   },
   "outputs": [
    {
     "name": "stdout",
     "output_type": "stream",
     "text": [
      "ScaledLR: -0.612589 (0.045929)\n",
      "ScaledRIDGE: -0.612589 (0.045929)\n",
      "ScaledLASSO: -0.625626 (0.049576)\n",
      "ScaledEN: -0.625626 (0.049576)\n",
      "ScaledKNN: -0.513122 (0.026037)\n",
      "ScaledCART: -0.797375 (0.054146)\n",
      "ScaledSVR: -0.561491 (0.040919)\n",
      "ScaledXGB: -0.369198 (0.019044)\n",
      "ScaledFFNN: -0.382983 (0.016048)\n"
     ]
    },
    {
     "data": {
      "image/png": "[encoded data removed]",
      "text/plain": [
       "<matplotlib.figure.Figure at 0x7ff340113a90>"
      ]
     },
     "metadata": {},
     "output_type": "display_data"
    }
   ],
   "source": [
    "# Test options and evaluation metric\n",
    "num_folds = 5\n",
    "seed = 7\n",
    "scoring = 'neg_mean_squared_error'\n",
    "\n",
    "# Standardize the dataset\n",
    "pipelines = []\n",
    "pipelines.append(('ScaledLR', Pipeline([('Scaler', StandardScaler()),('LR', LinearRegression())])))\n",
    "pipelines.append(('ScaledRIDGE', Pipeline([('Scaler', StandardScaler()),('RIDGE', Ridge())])))\n",
    "pipelines.append(('ScaledLASSO', Pipeline([('Scaler', StandardScaler()),('LASSO', Lasso())])))\n",
    "pipelines.append(('ScaledEN', Pipeline([('Scaler', StandardScaler()),('EN', ElasticNet())])))\n",
    "pipelines.append(('ScaledKNN', Pipeline([('Scaler', StandardScaler()),('KNN', KNeighborsRegressor())])))\n",
    "pipelines.append(('ScaledCART', Pipeline([('Scaler', StandardScaler()),('CART', DecisionTreeRegressor())])))\n",
    "pipelines.append(('ScaledSVR', Pipeline([('Scaler', StandardScaler()),('SVR', SVR())])))\n",
    "pipelines.append(('ScaledXGB', Pipeline([('Scaler', StandardScaler()),('XGB', XGBRegressor())])))\n",
    "pipelines.append(('ScaledFFNN', Pipeline([('Scaler', StandardScaler()),('FFNN', KerasRegressor(build_fn=baseline_model, epochs=2000, batch_size=1024, verbose=0))])))\n",
    "\n",
    "results = []\n",
    "names = []\n",
    "\n",
    "for name, model in pipelines:\n",
    "\tkfold = KFold(n_splits=num_folds, random_state=seed)\n",
    "\tcv_results = cross_val_score(model, X_train, Y_train, cv=kfold, scoring=scoring)\n",
    "\tresults.append(cv_results)\n",
    "\tnames.append(name)\n",
    "\tmsg = \"%s: %f (%f)\" % (name, cv_results.mean(), cv_results.std())\n",
    "\tprint(msg)\n",
    "\n",
    "# Compare Algorithms\n",
    "fig = pyplot.figure(figsize=(10, 7))\n",
    "fig.suptitle('Scaled Algorithm Comparison')\n",
    "ax = fig.add_subplot(111)\n",
    "pyplot.boxplot(results)\n",
    "ax.set_xticklabels(names)\n",
    "pyplot.show()"
   ]
  },
  {
   "cell_type": "markdown",
   "metadata": {},
   "source": [
    "XGB outperformes other models followed by Feed Forward Neural Network model"
   ]
  },
  {
   "cell_type": "markdown",
   "metadata": {},
   "source": [
    "### Comparing Ensemble Methods and Neural Networks"
   ]
  },
  {
   "cell_type": "code",
   "execution_count": 51,
   "metadata": {
    "collapsed": false
   },
   "outputs": [],
   "source": [
    "# Define Neural Networks with different topology\n",
    "\n",
    "input_dim = 28\n",
    "\n",
    "def plot_learning_curve(history):    \n",
    "    print history.history\n",
    "    pyplot.plot(history.history['loss'])\n",
    "    pyplot.plot(history.history['val_loss'])\n",
    "    pyplot.title('model loss - Mean Squared Error(MSE)')\n",
    "    pyplot.ylabel('loss')\n",
    "    pyplot.xlabel('epoch')\n",
    "    pyplot.legend(['train', 'validation'], loc='upper right')\n",
    "    pyplot.show()\n",
    "\n",
    "# define base model\n",
    "def baseline_model():\n",
    "\t# create model\n",
    "\tmodel = Sequential()\n",
    "\tmodel.add(Dense(input_dim, input_dim=input_dim, kernel_initializer='normal', activation='relu'))\n",
    "\tmodel.add(Dense(1, kernel_initializer='normal'))\n",
    "\t# Compile model\n",
    "\tmodel.compile(loss='mean_squared_error', optimizer='adam')\n",
    "\treturn model\n",
    "\n",
    "def deep_model():\n",
    "\t# create model\n",
    "\tmodel = Sequential()\n",
    "\tmodel.add(Dense(input_dim, input_dim=input_dim, kernel_initializer='normal', activation='relu'))\n",
    "\tmodel.add(Dense(6, kernel_initializer='normal', activation='relu'))\n",
    "\tmodel.add(Dense(1, kernel_initializer='normal'))\n",
    "\t# Compile model\n",
    "\tmodel.compile(loss='mean_squared_error', optimizer='adam')\n",
    "\treturn model\n",
    "\n",
    "# define wider model\n",
    "def wider_model():\n",
    "\t# create model\n",
    "\tmodel = Sequential()\n",
    "\tmodel.add(Dense(128, input_dim=input_dim, kernel_initializer='normal', activation='relu'))\n",
    "\tmodel.add(Dense(1, kernel_initializer='normal'))\n",
    "\t# Compile model\n",
    "\tmodel.compile(loss='mean_squared_error', optimizer='adam')\n",
    "\treturn model\n",
    "\n",
    "def deeper_model():\n",
    "\t# create model\n",
    "\tmodel = Sequential()\n",
    "\tmodel.add(Dense(input_dim, input_dim=input_dim, kernel_initializer='normal', activation='relu'))\n",
    "\tmodel.add(Dense(64, kernel_initializer='normal', activation='relu'))\n",
    "\tmodel.add(Dense(32, kernel_initializer='normal', activation='relu'))\n",
    "\tmodel.add(Dense(8, kernel_initializer='normal', activation='relu'))\n",
    "\tmodel.add(Dense(1, kernel_initializer='normal'))\n",
    "\t# Compile model\n",
    "\tmodel.compile(loss='mean_squared_error', optimizer='adam')\n",
    "\treturn model"
   ]
  },
  {
   "cell_type": "code",
   "execution_count": 52,
   "metadata": {
    "collapsed": false
   },
   "outputs": [
    {
     "name": "stdout",
     "output_type": "stream",
     "text": [
      "ScaledFFNN: -0.660551 (0.084366)\n",
      "ScaledDeepNN: -0.793116 (0.134059)\n",
      "ScaledWideNN: -0.904533 (0.051841)\n",
      "ScaledDeeperNN: -0.673911 (0.268825)\n",
      "ScaledXGB: -0.341953 (0.058434)\n",
      "ScaledAB: -0.440225 (0.051507)\n",
      "ScaledGBM: -0.343734 (0.056148)\n",
      "ScaledRF: -0.379711 (0.057995)\n",
      "ScaledET: -0.423128 (0.055676)\n"
     ]
    },
    {
     "data": {
      "image/png": "[encoded data removed]",
      "text/plain": [
       "<matplotlib.figure.Figure at 0x7ff2827bcb90>"
      ]
     },
     "metadata": {},
     "output_type": "display_data"
    }
   ],
   "source": [
    "# Prepare Data\n",
    "# Split-out validation dataset\n",
    "seed = 7\n",
    "numpy.random.seed(seed=seed)\n",
    "rand_ix=numpy.random.randint(1, dataset.shape[0], size=5000)\n",
    "rand_ix\n",
    "\n",
    "# Use Entire Data\n",
    "#X = dataset[:,0:28]\n",
    "#Y = dataset[:,28]\n",
    "\n",
    "# Use only partial Data\n",
    "X = dataset[rand_ix,0:28]\n",
    "Y = dataset[rand_ix,28]\n",
    "\n",
    "validation_size = 0.20\n",
    "X_train, X_validation, Y_train, Y_validation = train_test_split(X, Y, test_size=validation_size, random_state=seed)\n",
    "\n",
    "# Test options and evaluation metric\n",
    "num_folds = 5\n",
    "seed = 7\n",
    "scoring = 'neg_mean_squared_error'\n",
    "\n",
    "# Standardize the dataset\n",
    "pipelines = []\n",
    "pipelines.append(('ScaledFFNN', Pipeline([('Scaler', StandardScaler()),('FFNN', KerasRegressor(build_fn=baseline_model, epochs=2000, batch_size=1024, verbose=0))])))\n",
    "pipelines.append(('ScaledDeepNN', Pipeline([('Scaler', StandardScaler()),('FFNN', KerasRegressor(build_fn=deep_model, epochs=2000, batch_size=1024, verbose=0))])))\n",
    "pipelines.append(('ScaledWideNN', Pipeline([('Scaler', StandardScaler()),('FFNN', KerasRegressor(build_fn=wider_model, epochs=2000, batch_size=1024, verbose=0))])))\n",
    "pipelines.append(('ScaledDeeperNN', Pipeline([('Scaler', StandardScaler()),('FFNN', KerasRegressor(build_fn=deeper_model, epochs=2000, batch_size=1024, verbose=0))])))\n",
    "pipelines.append(('ScaledXGB', Pipeline([('Scaler', StandardScaler()),('XGB', XGBRegressor())])))\n",
    "pipelines.append(('ScaledAB', Pipeline([('Scaler', StandardScaler()),('AB', AdaBoostRegressor())])))\n",
    "pipelines.append(('ScaledGBM', Pipeline([('Scaler', StandardScaler()),('GBM', GradientBoostingRegressor())])))\n",
    "pipelines.append(('ScaledRF', Pipeline([('Scaler', StandardScaler()),('RF', RandomForestRegressor())])))\n",
    "pipelines.append(('ScaledET', Pipeline([('Scaler', StandardScaler()),('ET', ExtraTreesRegressor())])))\n",
    "\n",
    "results = []\n",
    "names = []\n",
    "\n",
    "for name, model in pipelines:\n",
    "\tkfold = KFold(n_splits=num_folds, random_state=seed)\n",
    "\tcv_results = cross_val_score(model, X_train, Y_train, cv=kfold, scoring=scoring)\n",
    "\tresults.append(cv_results)\n",
    "\tnames.append(name)\n",
    "\tmsg = \"%s: %f (%f)\" % (name, cv_results.mean(), cv_results.std())\n",
    "\tprint(msg)\n",
    "\n",
    "# Compare Algorithms\n",
    "fig = pyplot.figure(figsize=(15, 7))\n",
    "fig.suptitle('Scaled Algorithm Comparison')\n",
    "ax = fig.add_subplot(111)\n",
    "pyplot.boxplot(results)\n",
    "ax.set_xticklabels(names)\n",
    "pyplot.show()"
   ]
  },
  {
   "cell_type": "markdown",
   "metadata": {},
   "source": [
    "## Tuning Hyper Parameter for XGB and GBM [Using Partial Data : 5000]"
   ]
  },
  {
   "cell_type": "code",
   "execution_count": null,
   "metadata": {
    "collapsed": true
   },
   "outputs": [],
   "source": [
    "# Use Entire Data\n",
    "X = dataset[:,0:28]\n",
    "Y = dataset[:,28]\n",
    "\n",
    "validation_size = 0.20\n",
    "X_train, X_validation, Y_train, Y_validation = train_test_split(X, Y, test_size=validation_size, random_state=seed)"
   ]
  },
  {
   "cell_type": "code",
   "execution_count": 58,
   "metadata": {
    "collapsed": false,
    "scrolled": true
   },
   "outputs": [
    {
     "name": "stdout",
     "output_type": "stream",
     "text": [
      "Best: -0.333887 using {'n_estimators': 30}\n",
      "-0.347634 (0.061242) with: {'n_estimators': 10}\n",
      "-0.333979 (0.058164) with: {'n_estimators': 20}\n",
      "-0.333887 (0.061602) with: {'n_estimators': 30}\n",
      "-0.334984 (0.060679) with: {'n_estimators': 40}\n",
      "-0.335734 (0.059185) with: {'n_estimators': 50}\n",
      "-0.337544 (0.057894) with: {'n_estimators': 60}\n",
      "-0.340472 (0.055757) with: {'n_estimators': 70}\n",
      "-0.342595 (0.055327) with: {'n_estimators': 80}\n",
      "-0.343786 (0.055510) with: {'n_estimators': 90}\n",
      "-0.344485 (0.055051) with: {'n_estimators': 100}\n"
     ]
    }
   ],
   "source": [
    "# Tune scaled GBM\n",
    "scaler = StandardScaler().fit(X_train)\n",
    "rescaledX = scaler.transform(X_train)\n",
    "param_grid = dict(n_estimators=numpy.array([10, 20, 30, 40, 50, 60, 70, 80, 90, 100]))\n",
    "model = GradientBoostingRegressor(random_state=seed)\n",
    "kfold = KFold(n_splits=num_folds, random_state=seed)\n",
    "grid = GridSearchCV(estimator=model, param_grid=param_grid, scoring=scoring, cv=kfold)\n",
    "grid_result = grid.fit(rescaledX, Y_train)\n",
    "\n",
    "print(\"Best: %f using %s\" % (grid_result.best_score_, grid_result.best_params_))\n",
    "means = grid_result.cv_results_['mean_test_score']\n",
    "stds = grid_result.cv_results_['std_test_score']\n",
    "params = grid_result.cv_results_['params']\n",
    "for mean, stdev, param in zip(means, stds, params):\n",
    "    print(\"%f (%f) with: %r\" % (mean, stdev, param))"
   ]
  },
  {
   "cell_type": "code",
   "execution_count": 61,
   "metadata": {
    "collapsed": false,
    "scrolled": true
   },
   "outputs": [
    {
     "name": "stdout",
     "output_type": "stream",
     "text": [
      "Best: -0.331368 using {'n_estimators': 30}\n",
      "-0.393735 (0.080046) with: {'n_estimators': 10}\n",
      "-0.337244 (0.060489) with: {'n_estimators': 20}\n",
      "-0.331368 (0.060928) with: {'n_estimators': 30}\n",
      "-0.332492 (0.063420) with: {'n_estimators': 40}\n",
      "-0.333956 (0.063392) with: {'n_estimators': 50}\n",
      "-0.334949 (0.062318) with: {'n_estimators': 60}\n",
      "-0.336065 (0.061589) with: {'n_estimators': 70}\n",
      "-0.337507 (0.061149) with: {'n_estimators': 80}\n",
      "-0.339229 (0.059968) with: {'n_estimators': 90}\n",
      "-0.341032 (0.059680) with: {'n_estimators': 100}\n"
     ]
    }
   ],
   "source": [
    "# Tune scaled XGB\n",
    "scaler = StandardScaler().fit(X_train)\n",
    "rescaledX = scaler.transform(X_train)\n",
    "param_grid = dict(n_estimators=numpy.array([10, 20, 30, 40, 50, 60, 70, 80, 90, 100]))\n",
    "model = XGBRegressor()\n",
    "kfold = KFold(n_splits=num_folds, random_state=seed)\n",
    "grid = GridSearchCV(estimator=model, param_grid=param_grid, scoring=scoring, cv=kfold)\n",
    "grid_result = grid.fit(rescaledX, Y_train)\n",
    "\n",
    "print(\"Best: %f using %s\" % (grid_result.best_score_, grid_result.best_params_))\n",
    "means = grid_result.cv_results_['mean_test_score']\n",
    "stds = grid_result.cv_results_['std_test_score']\n",
    "params = grid_result.cv_results_['params']\n",
    "for mean, stdev, param in zip(means, stds, params):\n",
    "    print(\"%f (%f) with: %r\" % (mean, stdev, param))"
   ]
  },
  {
   "cell_type": "code",
   "execution_count": 66,
   "metadata": {
    "collapsed": false
   },
   "outputs": [
    {
     "name": "stdout",
     "output_type": "stream",
     "text": [
      "0.363704007885\n"
     ]
    }
   ],
   "source": [
    "# Make predictions on validation dataset\n",
    "\n",
    "# prepare the model\n",
    "scaler = StandardScaler().fit(X_train)\n",
    "rescaledX = scaler.transform(X_train)\n",
    "model = XGBRegressor(n_estimators=30)\n",
    "model.fit(rescaledX, Y_train)\n",
    "# transform the validation dataset\n",
    "rescaledValidationX = scaler.transform(X_validation)\n",
    "predictions = model.predict(rescaledValidationX)\n",
    "print(mean_squared_error(Y_validation, predictions))"
   ]
  }
 ],
 "metadata": {
  "kernelspec": {
   "display_name": "Python 2",
   "language": "python",
   "name": "python2"
  },
  "language_info": {
   "codemirror_mode": {
    "name": "ipython",
    "version": 2
   },
   "file_extension": ".py",
   "mimetype": "text/x-python",
   "name": "python",
   "nbconvert_exporter": "python",
   "pygments_lexer": "ipython2",
   "version": "2.7.13"
  }
 },
 "nbformat": 4,
 "nbformat_minor": 2
}
